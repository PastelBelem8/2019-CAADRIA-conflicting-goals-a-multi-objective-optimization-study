{
 "cells": [
  {
   "cell_type": "code",
   "execution_count": 1,
   "metadata": {
    "collapsed": true
   },
   "outputs": [],
   "source": [
    "# https://plot.ly/python/axes/\n",
    "import pandas as pd\n",
    "import numpy as np"
   ]
  },
  {
   "cell_type": "code",
   "execution_count": 2,
   "metadata": {},
   "outputs": [
    {
     "data": {
      "text/html": [
       "<div>\n",
       "<style>\n",
       "    .dataframe thead tr:only-child th {\n",
       "        text-align: right;\n",
       "    }\n",
       "\n",
       "    .dataframe thead th {\n",
       "        text-align: left;\n",
       "    }\n",
       "\n",
       "    .dataframe tbody tr th {\n",
       "        vertical-align: top;\n",
       "    }\n",
       "</style>\n",
       "<table border=\"1\" class=\"dataframe\">\n",
       "  <thead>\n",
       "    <tr style=\"text-align: right;\">\n",
       "      <th></th>\n",
       "      <th>0</th>\n",
       "      <th>1</th>\n",
       "      <th>2</th>\n",
       "      <th>3</th>\n",
       "      <th>4</th>\n",
       "      <th>5</th>\n",
       "      <th>6</th>\n",
       "      <th>7</th>\n",
       "      <th>8</th>\n",
       "      <th>9</th>\n",
       "      <th>10</th>\n",
       "    </tr>\n",
       "  </thead>\n",
       "  <tbody>\n",
       "    <tr>\n",
       "      <th>0</th>\n",
       "      <td>27.900</td>\n",
       "      <td>27.519</td>\n",
       "      <td>0.244</td>\n",
       "      <td>0.665985</td>\n",
       "      <td>21.417838</td>\n",
       "      <td>-0.237790</td>\n",
       "      <td>31.026032</td>\n",
       "      <td>-1.327788</td>\n",
       "      <td>0.261611</td>\n",
       "      <td>1.307729</td>\n",
       "      <td>72.461375</td>\n",
       "    </tr>\n",
       "    <tr>\n",
       "      <th>1</th>\n",
       "      <td>9.435</td>\n",
       "      <td>9.435</td>\n",
       "      <td>0.000</td>\n",
       "      <td>0.310227</td>\n",
       "      <td>10.939239</td>\n",
       "      <td>-0.592896</td>\n",
       "      <td>10.580658</td>\n",
       "      <td>-0.811962</td>\n",
       "      <td>3.633277</td>\n",
       "      <td>1.292872</td>\n",
       "      <td>28.926759</td>\n",
       "    </tr>\n",
       "    <tr>\n",
       "      <th>2</th>\n",
       "      <td>10.350</td>\n",
       "      <td>10.350</td>\n",
       "      <td>0.000</td>\n",
       "      <td>0.769788</td>\n",
       "      <td>7.761587</td>\n",
       "      <td>-1.183812</td>\n",
       "      <td>19.867838</td>\n",
       "      <td>-1.424898</td>\n",
       "      <td>9.505861</td>\n",
       "      <td>1.109352</td>\n",
       "      <td>49.047421</td>\n",
       "    </tr>\n",
       "    <tr>\n",
       "      <th>3</th>\n",
       "      <td>9.483</td>\n",
       "      <td>9.483</td>\n",
       "      <td>0.000</td>\n",
       "      <td>1.536313</td>\n",
       "      <td>30.916909</td>\n",
       "      <td>-0.696372</td>\n",
       "      <td>14.878207</td>\n",
       "      <td>-1.283161</td>\n",
       "      <td>14.654795</td>\n",
       "      <td>0.969101</td>\n",
       "      <td>55.451661</td>\n",
       "    </tr>\n",
       "    <tr>\n",
       "      <th>4</th>\n",
       "      <td>10.180</td>\n",
       "      <td>10.180</td>\n",
       "      <td>0.000</td>\n",
       "      <td>1.144987</td>\n",
       "      <td>6.288066</td>\n",
       "      <td>0.206822</td>\n",
       "      <td>25.155869</td>\n",
       "      <td>0.491872</td>\n",
       "      <td>9.079051</td>\n",
       "      <td>1.349896</td>\n",
       "      <td>44.244605</td>\n",
       "    </tr>\n",
       "  </tbody>\n",
       "</table>\n",
       "</div>"
      ],
      "text/plain": [
       "       0       1      2         3          4         5          6         7   \\\n",
       "0  27.900  27.519  0.244  0.665985  21.417838 -0.237790  31.026032 -1.327788   \n",
       "1   9.435   9.435  0.000  0.310227  10.939239 -0.592896  10.580658 -0.811962   \n",
       "2  10.350  10.350  0.000  0.769788   7.761587 -1.183812  19.867838 -1.424898   \n",
       "3   9.483   9.483  0.000  1.536313  30.916909 -0.696372  14.878207 -1.283161   \n",
       "4  10.180  10.180  0.000  1.144987   6.288066  0.206822  25.155869  0.491872   \n",
       "\n",
       "          8         9          10  \n",
       "0   0.261611  1.307729  72.461375  \n",
       "1   3.633277  1.292872  28.926759  \n",
       "2   9.505861  1.109352  49.047421  \n",
       "3  14.654795  0.969101  55.451661  \n",
       "4   9.079051  1.349896  44.244605  "
      ]
     },
     "execution_count": 2,
     "metadata": {},
     "output_type": "execute_result"
    }
   ],
   "source": [
    "# Get the data (csv file should be on the same folder as this file)\n",
    "base_folder = \"final/outputs/\"\n",
    "url = base_folder + \"all_solutions_20190310.csv\"\n",
    "csv_has_header = False # True\n",
    "df = pd.read_csv(url, sep=',', header=None)\n",
    "df.head()"
   ]
  },
  {
   "cell_type": "code",
   "execution_count": 3,
   "metadata": {},
   "outputs": [
    {
     "data": {
      "text/html": [
       "<div>\n",
       "<style>\n",
       "    .dataframe thead tr:only-child th {\n",
       "        text-align: right;\n",
       "    }\n",
       "\n",
       "    .dataframe thead th {\n",
       "        text-align: left;\n",
       "    }\n",
       "\n",
       "    .dataframe tbody tr th {\n",
       "        vertical-align: top;\n",
       "    }\n",
       "</style>\n",
       "<table border=\"1\" class=\"dataframe\">\n",
       "  <thead>\n",
       "    <tr style=\"text-align: right;\">\n",
       "      <th></th>\n",
       "      <th>0</th>\n",
       "      <th>1</th>\n",
       "      <th>2</th>\n",
       "      <th>3</th>\n",
       "      <th>4</th>\n",
       "      <th>5</th>\n",
       "      <th>6</th>\n",
       "      <th>7</th>\n",
       "      <th>8</th>\n",
       "      <th>9</th>\n",
       "      <th>10</th>\n",
       "    </tr>\n",
       "  </thead>\n",
       "  <tbody>\n",
       "    <tr>\n",
       "      <th>count</th>\n",
       "      <td>24514.000000</td>\n",
       "      <td>24514.000000</td>\n",
       "      <td>24514.000000</td>\n",
       "      <td>24514.000000</td>\n",
       "      <td>24514.000000</td>\n",
       "      <td>24514.000000</td>\n",
       "      <td>24514.000000</td>\n",
       "      <td>24514.000000</td>\n",
       "      <td>24514.000000</td>\n",
       "      <td>24514.000000</td>\n",
       "      <td>24514.000000</td>\n",
       "    </tr>\n",
       "    <tr>\n",
       "      <th>mean</th>\n",
       "      <td>24.648884</td>\n",
       "      <td>24.648516</td>\n",
       "      <td>0.000257</td>\n",
       "      <td>0.053193</td>\n",
       "      <td>14.954274</td>\n",
       "      <td>0.025563</td>\n",
       "      <td>16.800471</td>\n",
       "      <td>0.404427</td>\n",
       "      <td>16.800770</td>\n",
       "      <td>1.150966</td>\n",
       "      <td>39.810990</td>\n",
       "    </tr>\n",
       "    <tr>\n",
       "      <th>std</th>\n",
       "      <td>21.239488</td>\n",
       "      <td>21.239474</td>\n",
       "      <td>0.007232</td>\n",
       "      <td>1.169126</td>\n",
       "      <td>8.752282</td>\n",
       "      <td>1.093927</td>\n",
       "      <td>8.129443</td>\n",
       "      <td>1.055486</td>\n",
       "      <td>8.416493</td>\n",
       "      <td>0.155919</td>\n",
       "      <td>17.767717</td>\n",
       "    </tr>\n",
       "    <tr>\n",
       "      <th>min</th>\n",
       "      <td>5.322000</td>\n",
       "      <td>5.322000</td>\n",
       "      <td>0.000000</td>\n",
       "      <td>-1.570796</td>\n",
       "      <td>0.000000</td>\n",
       "      <td>-1.570796</td>\n",
       "      <td>0.000000</td>\n",
       "      <td>-1.570796</td>\n",
       "      <td>0.000000</td>\n",
       "      <td>0.543703</td>\n",
       "      <td>0.000000</td>\n",
       "    </tr>\n",
       "    <tr>\n",
       "      <th>25%</th>\n",
       "      <td>13.348000</td>\n",
       "      <td>13.348000</td>\n",
       "      <td>0.000000</td>\n",
       "      <td>-1.247604</td>\n",
       "      <td>6.970110</td>\n",
       "      <td>-1.062693</td>\n",
       "      <td>10.920053</td>\n",
       "      <td>-0.558991</td>\n",
       "      <td>9.871483</td>\n",
       "      <td>1.056924</td>\n",
       "      <td>26.964389</td>\n",
       "    </tr>\n",
       "    <tr>\n",
       "      <th>50%</th>\n",
       "      <td>16.229500</td>\n",
       "      <td>16.229000</td>\n",
       "      <td>0.000000</td>\n",
       "      <td>0.116491</td>\n",
       "      <td>14.719265</td>\n",
       "      <td>0.000000</td>\n",
       "      <td>17.077492</td>\n",
       "      <td>0.761007</td>\n",
       "      <td>17.397337</td>\n",
       "      <td>1.156206</td>\n",
       "      <td>40.238719</td>\n",
       "    </tr>\n",
       "    <tr>\n",
       "      <th>75%</th>\n",
       "      <td>26.577250</td>\n",
       "      <td>26.577250</td>\n",
       "      <td>0.000000</td>\n",
       "      <td>1.277199</td>\n",
       "      <td>22.563129</td>\n",
       "      <td>1.152847</td>\n",
       "      <td>23.120909</td>\n",
       "      <td>1.395803</td>\n",
       "      <td>23.930227</td>\n",
       "      <td>1.253621</td>\n",
       "      <td>53.143111</td>\n",
       "    </tr>\n",
       "    <tr>\n",
       "      <th>max</th>\n",
       "      <td>175.218000</td>\n",
       "      <td>175.218000</td>\n",
       "      <td>0.343000</td>\n",
       "      <td>1.570796</td>\n",
       "      <td>31.415927</td>\n",
       "      <td>1.570796</td>\n",
       "      <td>31.415927</td>\n",
       "      <td>1.570796</td>\n",
       "      <td>31.415927</td>\n",
       "      <td>2.001658</td>\n",
       "      <td>88.900953</td>\n",
       "    </tr>\n",
       "  </tbody>\n",
       "</table>\n",
       "</div>"
      ],
      "text/plain": [
       "                 0             1             2             3             4   \\\n",
       "count  24514.000000  24514.000000  24514.000000  24514.000000  24514.000000   \n",
       "mean      24.648884     24.648516      0.000257      0.053193     14.954274   \n",
       "std       21.239488     21.239474      0.007232      1.169126      8.752282   \n",
       "min        5.322000      5.322000      0.000000     -1.570796      0.000000   \n",
       "25%       13.348000     13.348000      0.000000     -1.247604      6.970110   \n",
       "50%       16.229500     16.229000      0.000000      0.116491     14.719265   \n",
       "75%       26.577250     26.577250      0.000000      1.277199     22.563129   \n",
       "max      175.218000    175.218000      0.343000      1.570796     31.415927   \n",
       "\n",
       "                 5             6             7             8             9   \\\n",
       "count  24514.000000  24514.000000  24514.000000  24514.000000  24514.000000   \n",
       "mean       0.025563     16.800471      0.404427     16.800770      1.150966   \n",
       "std        1.093927      8.129443      1.055486      8.416493      0.155919   \n",
       "min       -1.570796      0.000000     -1.570796      0.000000      0.543703   \n",
       "25%       -1.062693     10.920053     -0.558991      9.871483      1.056924   \n",
       "50%        0.000000     17.077492      0.761007     17.397337      1.156206   \n",
       "75%        1.152847     23.120909      1.395803     23.930227      1.253621   \n",
       "max        1.570796     31.415927      1.570796     31.415927      2.001658   \n",
       "\n",
       "                 10  \n",
       "count  24514.000000  \n",
       "mean      39.810990  \n",
       "std       17.767717  \n",
       "min        0.000000  \n",
       "25%       26.964389  \n",
       "50%       40.238719  \n",
       "75%       53.143111  \n",
       "max       88.900953  "
      ]
     },
     "execution_count": 3,
     "metadata": {},
     "output_type": "execute_result"
    }
   ],
   "source": [
    "df.describe()"
   ]
  },
  {
   "cell_type": "code",
   "execution_count": 4,
   "metadata": {
    "collapsed": true
   },
   "outputs": [],
   "source": [
    "df.describe().to_csv(base_folder + \"all_solutions_stats.csv\")"
   ]
  },
  {
   "cell_type": "code",
   "execution_count": 5,
   "metadata": {
    "collapsed": true
   },
   "outputs": [],
   "source": [
    "# Define cols in csv file \n",
    "vars_cols = [3, 4, 5, 6, 7, 8] # if csv_has_header else \n",
    "objs_cols = [9, 10] if not csv_has_header else [\"O1\", \"O2\"]"
   ]
  },
  {
   "cell_type": "code",
   "execution_count": 6,
   "metadata": {
    "collapsed": true
   },
   "outputs": [],
   "source": [
    "# Define the Objectives\n",
    "O1 = df[objs_cols[0]]\n",
    "O2 = df[objs_cols[1]]\n",
    "\n",
    "# Define the time columns\n",
    "time1 = 0 if not csv_has_header else \"Total time (s)\"\n",
    "time2 = 1 if not csv_has_header else  \"Time o1\"\n",
    "time3 = 2 if not csv_has_header else  \"Time o2\""
   ]
  },
  {
   "cell_type": "code",
   "execution_count": 7,
   "metadata": {
    "collapsed": true
   },
   "outputs": [],
   "source": [
    "df.drop(time1, axis=1, inplace=True)"
   ]
  },
  {
   "cell_type": "code",
   "execution_count": 8,
   "metadata": {
    "collapsed": true
   },
   "outputs": [],
   "source": [
    "df.drop(time2, axis=1, inplace=True)"
   ]
  },
  {
   "cell_type": "code",
   "execution_count": 9,
   "metadata": {
    "collapsed": true
   },
   "outputs": [],
   "source": [
    "df.drop(time3, axis=1, inplace=True)"
   ]
  },
  {
   "cell_type": "code",
   "execution_count": 10,
   "metadata": {},
   "outputs": [
    {
     "data": {
      "text/html": [
       "<div>\n",
       "<style>\n",
       "    .dataframe thead tr:only-child th {\n",
       "        text-align: right;\n",
       "    }\n",
       "\n",
       "    .dataframe thead th {\n",
       "        text-align: left;\n",
       "    }\n",
       "\n",
       "    .dataframe tbody tr th {\n",
       "        vertical-align: top;\n",
       "    }\n",
       "</style>\n",
       "<table border=\"1\" class=\"dataframe\">\n",
       "  <thead>\n",
       "    <tr style=\"text-align: right;\">\n",
       "      <th></th>\n",
       "      <th>3</th>\n",
       "      <th>4</th>\n",
       "      <th>5</th>\n",
       "      <th>6</th>\n",
       "      <th>7</th>\n",
       "      <th>8</th>\n",
       "      <th>9</th>\n",
       "      <th>10</th>\n",
       "    </tr>\n",
       "  </thead>\n",
       "  <tbody>\n",
       "    <tr>\n",
       "      <th>0</th>\n",
       "      <td>0.665985</td>\n",
       "      <td>21.417838</td>\n",
       "      <td>-0.237790</td>\n",
       "      <td>31.026032</td>\n",
       "      <td>-1.327788</td>\n",
       "      <td>0.261611</td>\n",
       "      <td>1.307729</td>\n",
       "      <td>72.461375</td>\n",
       "    </tr>\n",
       "    <tr>\n",
       "      <th>1</th>\n",
       "      <td>0.310227</td>\n",
       "      <td>10.939239</td>\n",
       "      <td>-0.592896</td>\n",
       "      <td>10.580658</td>\n",
       "      <td>-0.811962</td>\n",
       "      <td>3.633277</td>\n",
       "      <td>1.292872</td>\n",
       "      <td>28.926759</td>\n",
       "    </tr>\n",
       "    <tr>\n",
       "      <th>2</th>\n",
       "      <td>0.769788</td>\n",
       "      <td>7.761587</td>\n",
       "      <td>-1.183812</td>\n",
       "      <td>19.867838</td>\n",
       "      <td>-1.424898</td>\n",
       "      <td>9.505861</td>\n",
       "      <td>1.109352</td>\n",
       "      <td>49.047421</td>\n",
       "    </tr>\n",
       "    <tr>\n",
       "      <th>3</th>\n",
       "      <td>1.536313</td>\n",
       "      <td>30.916909</td>\n",
       "      <td>-0.696372</td>\n",
       "      <td>14.878207</td>\n",
       "      <td>-1.283161</td>\n",
       "      <td>14.654795</td>\n",
       "      <td>0.969101</td>\n",
       "      <td>55.451661</td>\n",
       "    </tr>\n",
       "    <tr>\n",
       "      <th>4</th>\n",
       "      <td>1.144987</td>\n",
       "      <td>6.288066</td>\n",
       "      <td>0.206822</td>\n",
       "      <td>25.155869</td>\n",
       "      <td>0.491872</td>\n",
       "      <td>9.079051</td>\n",
       "      <td>1.349896</td>\n",
       "      <td>44.244605</td>\n",
       "    </tr>\n",
       "  </tbody>\n",
       "</table>\n",
       "</div>"
      ],
      "text/plain": [
       "         3          4         5          6         7          8         9   \\\n",
       "0  0.665985  21.417838 -0.237790  31.026032 -1.327788   0.261611  1.307729   \n",
       "1  0.310227  10.939239 -0.592896  10.580658 -0.811962   3.633277  1.292872   \n",
       "2  0.769788   7.761587 -1.183812  19.867838 -1.424898   9.505861  1.109352   \n",
       "3  1.536313  30.916909 -0.696372  14.878207 -1.283161  14.654795  0.969101   \n",
       "4  1.144987   6.288066  0.206822  25.155869  0.491872   9.079051  1.349896   \n",
       "\n",
       "          10  \n",
       "0  72.461375  \n",
       "1  28.926759  \n",
       "2  49.047421  \n",
       "3  55.451661  \n",
       "4  44.244605  "
      ]
     },
     "execution_count": 10,
     "metadata": {},
     "output_type": "execute_result"
    }
   ],
   "source": [
    "df.head()"
   ]
  },
  {
   "cell_type": "code",
   "execution_count": 11,
   "metadata": {},
   "outputs": [
    {
     "name": "stdout",
     "output_type": "stream",
     "text": [
      "<class 'pandas.core.frame.DataFrame'>\n",
      "RangeIndex: 24514 entries, 0 to 24513\n",
      "Data columns (total 8 columns):\n",
      "3     24514 non-null float64\n",
      "4     24514 non-null float64\n",
      "5     24514 non-null float64\n",
      "6     24514 non-null float64\n",
      "7     24514 non-null float64\n",
      "8     24514 non-null float64\n",
      "9     24514 non-null float64\n",
      "10    24514 non-null float64\n",
      "dtypes: float64(8)\n",
      "memory usage: 1.5 MB\n"
     ]
    }
   ],
   "source": [
    "df.info()"
   ]
  },
  {
   "cell_type": "code",
   "execution_count": 12,
   "metadata": {},
   "outputs": [
    {
     "data": {
      "text/plain": [
       "'3.4.0'"
      ]
     },
     "execution_count": 12,
     "metadata": {},
     "output_type": "execute_result"
    }
   ],
   "source": [
    "import plotly\n",
    "import plotly.plotly as py\n",
    "import plotly.graph_objs as go\n",
    "plotly.__version__\n"
   ]
  },
  {
   "cell_type": "code",
   "execution_count": 13,
   "metadata": {},
   "outputs": [
    {
     "data": {
      "text/plain": [
       "array([[  0.66598502,  21.41783802,  -0.23779031, ...,   0.26161067,\n",
       "          1.30772913,  72.46137502],\n",
       "       [  0.31022705,  10.93923853,  -0.59289596, ...,   3.63327662,\n",
       "          1.29287165,  28.92675891],\n",
       "       [  0.76978787,   7.76158702,  -1.18381161, ...,   9.50586108,\n",
       "          1.10935176,  49.0474213 ],\n",
       "       ..., \n",
       "       [ -0.64655963,  12.4126309 ,   0.44458501, ...,  24.5814901 ,\n",
       "          1.22719724,  40.841394  ],\n",
       "       [ -1.53792597,  12.16220501,   0.21170153, ...,  30.83146073,\n",
       "          1.44126788,  50.39896433],\n",
       "       [  1.57079633,  30.52740252,  -1.57079633, ...,   0.        ,\n",
       "          0.90290807,  84.72080871]])"
      ]
     },
     "execution_count": 13,
     "metadata": {},
     "output_type": "execute_result"
    }
   ],
   "source": [
    "df.as_matrix()"
   ]
  },
  {
   "cell_type": "code",
   "execution_count": 14,
   "metadata": {
    "collapsed": true
   },
   "outputs": [],
   "source": [
    "plotly.tools.set_credentials_file(username='PastelBelem8', api_key='X8k1mloXRlB24rZm0qyq')"
   ]
  },
  {
   "cell_type": "code",
   "execution_count": 15,
   "metadata": {
    "collapsed": true
   },
   "outputs": [],
   "source": [
    "df1 = df"
   ]
  },
  {
   "cell_type": "code",
   "execution_count": 16,
   "metadata": {},
   "outputs": [
    {
     "data": {
      "text/html": [
       "<div>\n",
       "<style>\n",
       "    .dataframe thead tr:only-child th {\n",
       "        text-align: right;\n",
       "    }\n",
       "\n",
       "    .dataframe thead th {\n",
       "        text-align: left;\n",
       "    }\n",
       "\n",
       "    .dataframe tbody tr th {\n",
       "        vertical-align: top;\n",
       "    }\n",
       "</style>\n",
       "<table border=\"1\" class=\"dataframe\">\n",
       "  <thead>\n",
       "    <tr style=\"text-align: right;\">\n",
       "      <th></th>\n",
       "      <th>9</th>\n",
       "      <th>10</th>\n",
       "    </tr>\n",
       "  </thead>\n",
       "  <tbody>\n",
       "    <tr>\n",
       "      <th>count</th>\n",
       "      <td>24514.000000</td>\n",
       "      <td>24514.000000</td>\n",
       "    </tr>\n",
       "    <tr>\n",
       "      <th>mean</th>\n",
       "      <td>1.150966</td>\n",
       "      <td>39.810990</td>\n",
       "    </tr>\n",
       "    <tr>\n",
       "      <th>std</th>\n",
       "      <td>0.155919</td>\n",
       "      <td>17.767717</td>\n",
       "    </tr>\n",
       "    <tr>\n",
       "      <th>min</th>\n",
       "      <td>0.543703</td>\n",
       "      <td>0.000000</td>\n",
       "    </tr>\n",
       "    <tr>\n",
       "      <th>25%</th>\n",
       "      <td>1.056924</td>\n",
       "      <td>26.964389</td>\n",
       "    </tr>\n",
       "    <tr>\n",
       "      <th>50%</th>\n",
       "      <td>1.156206</td>\n",
       "      <td>40.238719</td>\n",
       "    </tr>\n",
       "    <tr>\n",
       "      <th>75%</th>\n",
       "      <td>1.253621</td>\n",
       "      <td>53.143111</td>\n",
       "    </tr>\n",
       "    <tr>\n",
       "      <th>max</th>\n",
       "      <td>2.001658</td>\n",
       "      <td>88.900953</td>\n",
       "    </tr>\n",
       "  </tbody>\n",
       "</table>\n",
       "</div>"
      ],
      "text/plain": [
       "                 9             10\n",
       "count  24514.000000  24514.000000\n",
       "mean       1.150966     39.810990\n",
       "std        0.155919     17.767717\n",
       "min        0.543703      0.000000\n",
       "25%        1.056924     26.964389\n",
       "50%        1.156206     40.238719\n",
       "75%        1.253621     53.143111\n",
       "max        2.001658     88.900953"
      ]
     },
     "execution_count": 16,
     "metadata": {},
     "output_type": "execute_result"
    }
   ],
   "source": [
    "df1[objs_cols].describe()"
   ]
  },
  {
   "cell_type": "code",
   "execution_count": 17,
   "metadata": {},
   "outputs": [
    {
     "data": {
      "text/html": [
       "<iframe id=\"igraph\" scrolling=\"no\" style=\"border:none;\" seamless=\"seamless\" src=\"https://plot.ly/~PastelBelem8/4.embed\" height=\"525px\" width=\"100%\"></iframe>"
      ],
      "text/plain": [
       "<plotly.tools.PlotlyDisplay object>"
      ]
     },
     "execution_count": 17,
     "metadata": {},
     "output_type": "execute_result"
    }
   ],
   "source": [
    "# Create random data with numpy\n",
    "import numpy as np\n",
    "\n",
    "# Create a trace\n",
    "trace = go.Scatter(\n",
    "    x = O1,\n",
    "    y = O2,\n",
    "    mode = 'markers'\n",
    ")\n",
    "\n",
    "data = [trace]\n",
    "fig = go.Figure(data=data)\n",
    "py.iplot(fig, filename='line-mode')"
   ]
  },
  {
   "cell_type": "code",
   "execution_count": null,
   "metadata": {},
   "outputs": [],
   "source": [
    "def weakly_dominates(v0, v1):\n",
    "    return np.all(v0 <= v1) and np.any(v0 < v1)\n",
    "    \n",
    "print(weakly_dominates(np.array([1, 1]), np.array([2, 2])))  \n",
    "print(weakly_dominates(np.array([2, 1]), np.array([2, 2])))\n",
    "print(weakly_dominates(np.array([2, 2]), np.array([1, 1])))\n",
    "print(weakly_dominates(np.array([1, 2]), np.array([2, 2])))\n",
    "print(weakly_dominates(np.array([1, 3]), np.array([3, 1])))\n",
    "print(weakly_dominates(np.array([3, 1]), np.array([1, 3])))"
   ]
  },
  {
   "cell_type": "code",
   "execution_count": null,
   "metadata": {
    "collapsed": true
   },
   "outputs": [],
   "source": [
    "def get_non_dominated_ix(V):\n",
    "    nsols, nobjs = V.shape\n",
    "    \n",
    "    dominated = np.zeros((nsols, 1))\n",
    "    \n",
    "    for i in range(nsols):\n",
    "        for j in range(nsols):\n",
    "            if i != j:\n",
    "                if weakly_dominates(V[j], V[i]):\n",
    "                    dominated[i] = 1\n",
    "                    break\n",
    "                    \n",
    "    return dominated\n",
    "                \n"
   ]
  },
  {
   "cell_type": "code",
   "execution_count": null,
   "metadata": {},
   "outputs": [],
   "source": [
    "A = np.array(df1[objs_cols])\n",
    "B = get_non_dominated_ix(A)\n",
    "B"
   ]
  },
  {
   "cell_type": "code",
   "execution_count": null,
   "metadata": {},
   "outputs": [],
   "source": [
    "df2 = pd.DataFrame(B, columns=[\"isDominated\"])\n",
    "df2['isDominated'].value_counts()"
   ]
  },
  {
   "cell_type": "code",
   "execution_count": null,
   "metadata": {},
   "outputs": [],
   "source": [
    "df1['isDominated'] = df2['isDominated']\n",
    "df1.describe()"
   ]
  },
  {
   "cell_type": "code",
   "execution_count": null,
   "metadata": {
    "collapsed": true
   },
   "outputs": [],
   "source": [
    "    "
   ]
  },
  {
   "cell_type": "code",
   "execution_count": null,
   "metadata": {},
   "outputs": [],
   "source": [
    "# Create random data with numpy\n",
    "o1 = objs_cols[0]\n",
    "o2 = objs_cols[1]\n",
    "O1_pf = df1[df1['isDominated'] == 0][o1]\n",
    "O2_pf = df1[df1['isDominated'] == 0][o2]\n",
    "\n",
    "O1_npf = df1[df1['isDominated'] == 1][o1]\n",
    "O2_npf = df1[df1['isDominated'] == 1][o2]\n",
    "\n",
    "# Create a trace\n",
    "trace = go.Scatter(\n",
    "    x = O1_pf,\n",
    "    y = O2_pf,\n",
    "    mode = 'markers',\n",
    "    name = \"Non-dominated\",\n",
    "    marker=dict(\n",
    "        size=6,\n",
    "        color = 'rgb(16, 46, 51)',\n",
    "        opacity=1,\n",
    "        line = dict(\n",
    "            color = 'rgb(255, 255, 255)',\n",
    "            width = 0.25\n",
    "          )\n",
    "    )\n",
    ")\n",
    "\n",
    "trace1 = go.Scatter(\n",
    "    x = O1_npf,\n",
    "    y = O2_npf,\n",
    "    mode = 'markers',\n",
    "    name = \"Dominated\",\n",
    "    marker=dict(\n",
    "        size=5,\n",
    "        color = 'rgb(149, 201, 209)',\n",
    "        line = dict(\n",
    "            color = 'rgb(255, 255, 255)',\n",
    "            width = 0.25\n",
    "          )\n",
    "    )\n",
    ")\n",
    "\n",
    "# data = [trace, trace1]\n",
    "data = [trace1, trace]\n",
    "\n",
    "\n",
    "\n",
    "fig = go.Figure(data=data)\n",
    "py.iplot(fig, filename='nondominated-dominated-line-mode')"
   ]
  },
  {
   "cell_type": "code",
   "execution_count": null,
   "metadata": {},
   "outputs": [],
   "source": [
    "file_o1 = base_folder + \"non_dominated_o1_asc.csv\"\n",
    "df1[df1[\"isDominated\"] == 0.0].sort_values(by=o1)"
   ]
  },
  {
   "cell_type": "code",
   "execution_count": null,
   "metadata": {
    "collapsed": true
   },
   "outputs": [],
   "source": [
    "df1[df1[\"isDominated\"] == 0.0].sort_values(by=o1).to_csv(file_o1, index=False, header=False)"
   ]
  },
  {
   "cell_type": "code",
   "execution_count": null,
   "metadata": {
    "collapsed": true
   },
   "outputs": [],
   "source": [
    "dominated_file = base_folder + \"dominated.csv\""
   ]
  },
  {
   "cell_type": "code",
   "execution_count": null,
   "metadata": {
    "collapsed": true
   },
   "outputs": [],
   "source": [
    "df1[df1[\"isDominated\"] == 1.0].to_csv(dominated_file, index=False, header=False)"
   ]
  },
  {
   "cell_type": "code",
   "execution_count": null,
   "metadata": {},
   "outputs": [],
   "source": [
    "df1[df1[\"isDominated\"] == 0.0]\n"
   ]
  },
  {
   "cell_type": "code",
   "execution_count": null,
   "metadata": {},
   "outputs": [],
   "source": [
    "df1[df1[\"isDominated\"] == 0.0].sort_values(by=o1)\n"
   ]
  },
  {
   "cell_type": "code",
   "execution_count": null,
   "metadata": {},
   "outputs": [],
   "source": [
    "df1[df1[\"isDominated\"] == 0.0].sort_values(by=o2)\n",
    "\n"
   ]
  },
  {
   "cell_type": "code",
   "execution_count": null,
   "metadata": {
    "collapsed": true
   },
   "outputs": [],
   "source": [
    "# Minimum displacement\n",
    "(-1.570796, 31.294214, 1.570796, 0.0, -1.570796, 0.0,1.570796, 31.283907, 1.284866, 0.0)\n",
    "\n",
    "# Maximum Distance \n",
    "(-1.570796, 31.415927, 1.570796, 0.0, 0.056993, 31.415927, -1.570796, 0.0, 1.570796, 31.415927)"
   ]
  }
 ],
 "metadata": {
  "kernelspec": {
   "display_name": "Python 3",
   "language": "python",
   "name": "python3"
  },
  "language_info": {
   "codemirror_mode": {
    "name": "ipython",
    "version": 3
   },
   "file_extension": ".py",
   "mimetype": "text/x-python",
   "name": "python",
   "nbconvert_exporter": "python",
   "pygments_lexer": "ipython3",
   "version": "3.6.1"
  }
 },
 "nbformat": 4,
 "nbformat_minor": 2
}

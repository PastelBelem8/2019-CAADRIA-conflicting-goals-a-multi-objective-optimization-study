{
 "cells": [
  {
   "cell_type": "code",
   "execution_count": 1,
   "metadata": {
    "collapsed": true
   },
   "outputs": [],
   "source": [
    "# Data processing\n",
    "import pandas as pd\n",
    "import numpy as np"
   ]
  },
  {
   "cell_type": "code",
   "execution_count": 2,
   "metadata": {
    "collapsed": true
   },
   "outputs": [],
   "source": [
    "input_base_folder = 'final/outputs/'\n",
    "output_base_folder =  ''# 'final/outputs/'"
   ]
  },
  {
   "cell_type": "code",
   "execution_count": 7,
   "metadata": {
    "collapsed": true
   },
   "outputs": [],
   "source": [
    "# Read data from a CSV file and returns a Dataframe\n",
    "def get_data_from_csv(filename, base_folder=input_base_folder, sep=',', header='infer'):\n",
    "    filepath = base_folder + filename\n",
    "    return pd.read_csv(filepath, sep, header=header)\n",
    "\n",
    "def write_data_to_csv(data, filename, base_folder=output_base_folder):\n",
    "    data.to_csv(base_folder + filename, header=False, index=False)"
   ]
  },
  {
   "cell_type": "code",
   "execution_count": 8,
   "metadata": {},
   "outputs": [
    {
     "data": {
      "text/html": [
       "<div>\n",
       "<style>\n",
       "    .dataframe thead tr:only-child th {\n",
       "        text-align: right;\n",
       "    }\n",
       "\n",
       "    .dataframe thead th {\n",
       "        text-align: left;\n",
       "    }\n",
       "\n",
       "    .dataframe tbody tr th {\n",
       "        vertical-align: top;\n",
       "    }\n",
       "</style>\n",
       "<table border=\"1\" class=\"dataframe\">\n",
       "  <thead>\n",
       "    <tr style=\"text-align: right;\">\n",
       "      <th></th>\n",
       "      <th>0</th>\n",
       "      <th>1</th>\n",
       "      <th>2</th>\n",
       "      <th>3</th>\n",
       "      <th>4</th>\n",
       "      <th>5</th>\n",
       "      <th>6</th>\n",
       "      <th>7</th>\n",
       "      <th>8</th>\n",
       "      <th>9</th>\n",
       "      <th>10</th>\n",
       "    </tr>\n",
       "  </thead>\n",
       "  <tbody>\n",
       "    <tr>\n",
       "      <th>0</th>\n",
       "      <td>27.900</td>\n",
       "      <td>27.519</td>\n",
       "      <td>0.244</td>\n",
       "      <td>0.665985</td>\n",
       "      <td>21.417838</td>\n",
       "      <td>-0.237790</td>\n",
       "      <td>31.026032</td>\n",
       "      <td>-1.327788</td>\n",
       "      <td>0.261611</td>\n",
       "      <td>1.307729</td>\n",
       "      <td>72.461375</td>\n",
       "    </tr>\n",
       "    <tr>\n",
       "      <th>1</th>\n",
       "      <td>9.435</td>\n",
       "      <td>9.435</td>\n",
       "      <td>0.000</td>\n",
       "      <td>0.310227</td>\n",
       "      <td>10.939239</td>\n",
       "      <td>-0.592896</td>\n",
       "      <td>10.580658</td>\n",
       "      <td>-0.811962</td>\n",
       "      <td>3.633277</td>\n",
       "      <td>1.292872</td>\n",
       "      <td>28.926759</td>\n",
       "    </tr>\n",
       "    <tr>\n",
       "      <th>2</th>\n",
       "      <td>10.350</td>\n",
       "      <td>10.350</td>\n",
       "      <td>0.000</td>\n",
       "      <td>0.769788</td>\n",
       "      <td>7.761587</td>\n",
       "      <td>-1.183812</td>\n",
       "      <td>19.867838</td>\n",
       "      <td>-1.424898</td>\n",
       "      <td>9.505861</td>\n",
       "      <td>1.109352</td>\n",
       "      <td>49.047421</td>\n",
       "    </tr>\n",
       "    <tr>\n",
       "      <th>3</th>\n",
       "      <td>9.483</td>\n",
       "      <td>9.483</td>\n",
       "      <td>0.000</td>\n",
       "      <td>1.536313</td>\n",
       "      <td>30.916909</td>\n",
       "      <td>-0.696372</td>\n",
       "      <td>14.878207</td>\n",
       "      <td>-1.283161</td>\n",
       "      <td>14.654795</td>\n",
       "      <td>0.969101</td>\n",
       "      <td>55.451661</td>\n",
       "    </tr>\n",
       "    <tr>\n",
       "      <th>4</th>\n",
       "      <td>10.180</td>\n",
       "      <td>10.180</td>\n",
       "      <td>0.000</td>\n",
       "      <td>1.144987</td>\n",
       "      <td>6.288066</td>\n",
       "      <td>0.206822</td>\n",
       "      <td>25.155869</td>\n",
       "      <td>0.491872</td>\n",
       "      <td>9.079051</td>\n",
       "      <td>1.349896</td>\n",
       "      <td>44.244605</td>\n",
       "    </tr>\n",
       "  </tbody>\n",
       "</table>\n",
       "</div>"
      ],
      "text/plain": [
       "       0       1      2         3          4         5          6         7   \\\n",
       "0  27.900  27.519  0.244  0.665985  21.417838 -0.237790  31.026032 -1.327788   \n",
       "1   9.435   9.435  0.000  0.310227  10.939239 -0.592896  10.580658 -0.811962   \n",
       "2  10.350  10.350  0.000  0.769788   7.761587 -1.183812  19.867838 -1.424898   \n",
       "3   9.483   9.483  0.000  1.536313  30.916909 -0.696372  14.878207 -1.283161   \n",
       "4  10.180  10.180  0.000  1.144987   6.288066  0.206822  25.155869  0.491872   \n",
       "\n",
       "          8         9          10  \n",
       "0   0.261611  1.307729  72.461375  \n",
       "1   3.633277  1.292872  28.926759  \n",
       "2   9.505861  1.109352  49.047421  \n",
       "3  14.654795  0.969101  55.451661  \n",
       "4   9.079051  1.349896  44.244605  "
      ]
     },
     "execution_count": 8,
     "metadata": {},
     "output_type": "execute_result"
    }
   ],
   "source": [
    "sols_file = 'all_solutions_20190310.csv'\n",
    "# Sanity check test 1\n",
    "data = get_data_from_csv(sols_file, header=None)\n",
    "data.head()"
   ]
  },
  {
   "cell_type": "code",
   "execution_count": 9,
   "metadata": {
    "collapsed": true
   },
   "outputs": [],
   "source": [
    "# Define the time columns\n",
    "time1 = 0 \n",
    "time2 = 1 \n",
    "time3 = 2 \n",
    "data.drop(time1, axis=1, inplace=True)\n",
    "data.drop(time2, axis=1, inplace=True)\n",
    "data.drop(time3, axis=1, inplace=True)"
   ]
  },
  {
   "cell_type": "code",
   "execution_count": 10,
   "metadata": {
    "collapsed": true
   },
   "outputs": [],
   "source": [
    "def create_samples_file(filename, data, nsamples=100, random=101):\n",
    "    samples = data.sample(n=nsamples, random_state=random)\n",
    "    write_data_to_csv(samples, filename)"
   ]
  },
  {
   "cell_type": "code",
   "execution_count": 11,
   "metadata": {
    "collapsed": true
   },
   "outputs": [],
   "source": [
    "create_samples_file(\"truss_sample1.csv\", data, nsamples=100, random=101)"
   ]
  },
  {
   "cell_type": "code",
   "execution_count": 12,
   "metadata": {
    "collapsed": true
   },
   "outputs": [],
   "source": [
    "create_samples_file(\"truss_sample2.csv\", data, nsamples=100, random=42)"
   ]
  },
  {
   "cell_type": "code",
   "execution_count": 13,
   "metadata": {
    "collapsed": true
   },
   "outputs": [],
   "source": [
    "create_samples_file(\"truss_sample3.csv\", data, nsamples=100, random=55)"
   ]
  },
  {
   "cell_type": "code",
   "execution_count": null,
   "metadata": {
    "collapsed": true
   },
   "outputs": [],
   "source": []
  }
 ],
 "metadata": {
  "kernelspec": {
   "display_name": "Python 3",
   "language": "python",
   "name": "python3"
  },
  "language_info": {
   "codemirror_mode": {
    "name": "ipython",
    "version": 3
   },
   "file_extension": ".py",
   "mimetype": "text/x-python",
   "name": "python",
   "nbconvert_exporter": "python",
   "pygments_lexer": "ipython3",
   "version": "3.6.1"
  }
 },
 "nbformat": 4,
 "nbformat_minor": 2
}

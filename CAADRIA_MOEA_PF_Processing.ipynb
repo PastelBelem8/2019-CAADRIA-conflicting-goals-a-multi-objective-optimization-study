{
 "cells": [
  {
   "cell_type": "markdown",
   "metadata": {},
   "source": [
    "# [CAADRIA 2019] Multi Objective Evolutionary Algorithms - PF processing "
   ]
  },
  {
   "cell_type": "code",
   "execution_count": 1,
   "metadata": {},
   "outputs": [],
   "source": [
    "# https://plot.ly/python/axes/\n",
    "import pandas as pd\n",
    "import numpy as np"
   ]
  },
  {
   "cell_type": "code",
   "execution_count": 161,
   "metadata": {},
   "outputs": [],
   "source": [
    "# Files Configurations\n",
    "files_header = False\n",
    "base_folder = \"final/outputs/algorithms/\"\n",
    "output_folder = \"final/outputs/\"\n",
    "\n",
    "# Get the data (csv file should be on the same folder as this file)\n",
    "def get_algorithm_data(algorithm, parent_folder=base_folder):\n",
    "    file = parent_folder + \"all_\" + algorithm + \"_solutions.csv\"\n",
    "    print(\"Reading file: \" + file)\n",
    "    return pd.read_csv(file, sep=',', header=None)"
   ]
  },
  {
   "cell_type": "code",
   "execution_count": 17,
   "metadata": {},
   "outputs": [],
   "source": [
    "# Variables and Objective columns\n",
    "vars_cols = [3, 4, 5, 6, 7, 8]\n",
    "objs_cols = [9, 10]\n",
    "\n",
    "# Drop columns (Time total, t1, t2)\n",
    "drop_cols = [0, 1, 2]"
   ]
  },
  {
   "cell_type": "code",
   "execution_count": 18,
   "metadata": {},
   "outputs": [],
   "source": [
    "# Objectives\n",
    "o1 = objs_cols[0]\n",
    "o2 = objs_cols[1]"
   ]
  },
  {
   "cell_type": "code",
   "execution_count": 19,
   "metadata": {},
   "outputs": [],
   "source": [
    "# Algorithms \n",
    "algorithms = [\"MOEAD\", \"SPEA2\", \"NSGAII\", \"OMOPSO\", \"SMPSO\", \"PESA2\", \"PAES\", \"EpsMOEA\", \"GDE3\", \"CMAES\"]\n",
    "#algorithms = [\"SMPSO\"]\n",
    "#algorithms = [\"MOEAD\", \"SPEA2\", \"NSGAII\", \"PESA2\", \"PAES\", \"EpsMOEA\"]"
   ]
  },
  {
   "cell_type": "code",
   "execution_count": 20,
   "metadata": {},
   "outputs": [
    {
     "name": "stdout",
     "output_type": "stream",
     "text": [
      "GPR_NSGAII\n",
      "GPR_Random\n",
      "GPR_SMPSO\n",
      "RF_NSGAII\n",
      "RF_Random\n",
      "RF_SMPSO\n",
      "MLP_NSGAII\n",
      "MLP_Random\n",
      "MLP_SMPSO\n"
     ]
    }
   ],
   "source": [
    "metamodel_algorithms = []\n",
    "metamodel_algorithms_metamodels = [ 'GPR', 'RF', 'MLP'] \n",
    "metamodel_algorithms_strategies = ['NSGAII', \"Random\", \"SMPSO\"]\n",
    "\n",
    "for metamodel in metamodel_algorithms_metamodels:\n",
    "    for strategy in metamodel_algorithms_strategies:\n",
    "        algo = metamodel + \"_\" + strategy\n",
    "        print(algo)\n",
    "        metamodel_algorithms += [algo]"
   ]
  },
  {
   "cell_type": "code",
   "execution_count": 21,
   "metadata": {},
   "outputs": [],
   "source": [
    "algorithms.extend(metamodel_algorithms)"
   ]
  },
  {
   "cell_type": "code",
   "execution_count": 22,
   "metadata": {},
   "outputs": [
    {
     "name": "stdout",
     "output_type": "stream",
     "text": [
      "19 ['MOEAD', 'SPEA2', 'NSGAII', 'OMOPSO', 'SMPSO', 'PESA2', 'PAES', 'EpsMOEA', 'GDE3', 'CMAES', 'GPR_NSGAII', 'GPR_Random', 'GPR_SMPSO', 'RF_NSGAII', 'RF_Random', 'RF_SMPSO', 'MLP_NSGAII', 'MLP_Random', 'MLP_SMPSO']\n"
     ]
    }
   ],
   "source": [
    "print(len(algorithms), algorithms)"
   ]
  },
  {
   "cell_type": "markdown",
   "metadata": {},
   "source": [
    "### Pareto Dominance Functionality\n",
    "- `weakly_dominated`: determines if a certain solution is dominated or non-dominated.\n",
    "- `get_non_dominated_ix`: creates a column describing whether a certain solution is dominated or not.\n",
    "- `add_dominated_col`: adds a `isDominated` column to the dataframe"
   ]
  },
  {
   "cell_type": "code",
   "execution_count": 23,
   "metadata": {},
   "outputs": [],
   "source": [
    "def weakly_dominates(v0, v1):\n",
    "    return np.all(v0 <= v1) and np.any(v0 < v1)"
   ]
  },
  {
   "cell_type": "code",
   "execution_count": 24,
   "metadata": {},
   "outputs": [],
   "source": [
    "def get_non_dominated(V):\n",
    "    nsols, nobjs = V.shape\n",
    "    \n",
    "    dominated = np.zeros((nsols, 1))\n",
    "    dominated_by = np.zeros((nsols, 1))\n",
    "    \n",
    "    for i in range(nsols):\n",
    "        for j in range(nsols):\n",
    "            if i != j:\n",
    "                if weakly_dominates(V[j], V[i]):\n",
    "                    dominated[i] = 1\n",
    "                    dominated_by[i] = j \n",
    "                    break\n",
    "                    \n",
    "    return dominated, dominated_by\n",
    "        \n",
    "def add_isdominated_cols(d, cols=objs_cols):\n",
    "    A = np.array(d[cols])\n",
    "    B, C = get_non_dominated(A)\n",
    "    d[\"isDominated\"] = pd.DataFrame(B, columns=[\"isDominated\"])\n",
    "    d[\"dominatedBy\"] = pd.DataFrame(C, columns=[\"dominatedBy\"])\n",
    "    print(d[\"isDominated\"].value_counts())"
   ]
  },
  {
   "cell_type": "markdown",
   "metadata": {},
   "source": [
    "### Collect the Pareto Front for each algorithm (APFs)"
   ]
  },
  {
   "cell_type": "code",
   "execution_count": 25,
   "metadata": {},
   "outputs": [
    {
     "name": "stdout",
     "output_type": "stream",
     "text": [
      "Reading file: final/outputs/algorithms/all_MOEAD_solutions.csv\n",
      "Reading file: final/outputs/algorithms/all_SPEA2_solutions.csv\n",
      "Reading file: final/outputs/algorithms/all_NSGAII_solutions.csv\n",
      "Reading file: final/outputs/algorithms/all_OMOPSO_solutions.csv\n",
      "Reading file: final/outputs/algorithms/all_SMPSO_solutions.csv\n",
      "Reading file: final/outputs/algorithms/all_PESA2_solutions.csv\n",
      "Reading file: final/outputs/algorithms/all_PAES_solutions.csv\n",
      "Reading file: final/outputs/algorithms/all_EpsMOEA_solutions.csv\n",
      "Reading file: final/outputs/algorithms/all_GDE3_solutions.csv\n",
      "Reading file: final/outputs/algorithms/all_CMAES_solutions.csv\n",
      "Reading file: final/outputs/algorithms/all_GPR_NSGAII_solutions.csv\n",
      "Reading file: final/outputs/algorithms/all_GPR_Random_solutions.csv\n",
      "Reading file: final/outputs/algorithms/all_GPR_SMPSO_solutions.csv\n",
      "Reading file: final/outputs/algorithms/all_RF_NSGAII_solutions.csv\n",
      "Reading file: final/outputs/algorithms/all_RF_Random_solutions.csv\n",
      "Reading file: final/outputs/algorithms/all_RF_SMPSO_solutions.csv\n",
      "Reading file: final/outputs/algorithms/all_MLP_NSGAII_solutions.csv\n",
      "Reading file: final/outputs/algorithms/all_MLP_Random_solutions.csv\n",
      "Reading file: final/outputs/algorithms/all_MLP_SMPSO_solutions.csv\n"
     ]
    }
   ],
   "source": [
    "# Collect data for each algorithm\n",
    "dfs = [get_algorithm_data(alg) for alg in algorithms]"
   ]
  },
  {
   "cell_type": "code",
   "execution_count": 26,
   "metadata": {},
   "outputs": [
    {
     "name": "stdout",
     "output_type": "stream",
     "text": [
      "\t\tAlgorithm MOEAD \n",
      "Retrieved 762 solutions\n",
      "1.0    719\n",
      "0.0     43\n",
      "Name: isDominated, dtype: int64\n",
      "\t\tAlgorithm SPEA2 \n",
      "Retrieved 699 solutions\n",
      "1.0    670\n",
      "0.0     29\n",
      "Name: isDominated, dtype: int64\n",
      "\t\tAlgorithm NSGAII \n",
      "Retrieved 713 solutions\n",
      "1.0    693\n",
      "0.0     20\n",
      "Name: isDominated, dtype: int64\n",
      "\t\tAlgorithm OMOPSO \n",
      "Retrieved 675 solutions\n",
      "1.0    663\n",
      "0.0     12\n",
      "Name: isDominated, dtype: int64\n",
      "\t\tAlgorithm SMPSO \n",
      "Retrieved 675 solutions\n",
      "1.0    642\n",
      "0.0     33\n",
      "Name: isDominated, dtype: int64\n",
      "\t\tAlgorithm PESA2 \n",
      "Retrieved 713 solutions\n",
      "1.0    677\n",
      "0.0     36\n",
      "Name: isDominated, dtype: int64\n",
      "\t\tAlgorithm PAES \n",
      "Retrieved 675 solutions\n",
      "1.0    600\n",
      "0.0     75\n",
      "Name: isDominated, dtype: int64\n",
      "\t\tAlgorithm EpsMOEA \n",
      "Retrieved 677 solutions\n",
      "1.0    635\n",
      "0.0     42\n",
      "Name: isDominated, dtype: int64\n",
      "\t\tAlgorithm GDE3 \n",
      "Retrieved 675 solutions\n",
      "1.0    642\n",
      "0.0     33\n",
      "Name: isDominated, dtype: int64\n",
      "\t\tAlgorithm CMAES \n",
      "Retrieved 1307 solutions\n",
      "1.0    1270\n",
      "0.0      37\n",
      "Name: isDominated, dtype: int64\n",
      "\t\tAlgorithm GPR_NSGAII \n",
      "Retrieved 675 solutions\n",
      "1.0    663\n",
      "0.0     12\n",
      "Name: isDominated, dtype: int64\n",
      "\t\tAlgorithm GPR_Random \n",
      "Retrieved 679 solutions\n",
      "1.0    672\n",
      "0.0      7\n",
      "Name: isDominated, dtype: int64\n",
      "\t\tAlgorithm GPR_SMPSO \n",
      "Retrieved 690 solutions\n",
      "1.0    666\n",
      "0.0     24\n",
      "Name: isDominated, dtype: int64\n",
      "\t\tAlgorithm RF_NSGAII \n",
      "Retrieved 703 solutions\n",
      "1.0    681\n",
      "0.0     22\n",
      "Name: isDominated, dtype: int64\n",
      "\t\tAlgorithm RF_Random \n",
      "Retrieved 689 solutions\n",
      "1.0    680\n",
      "0.0      9\n",
      "Name: isDominated, dtype: int64\n",
      "\t\tAlgorithm RF_SMPSO \n",
      "Retrieved 692 solutions\n",
      "1.0    679\n",
      "0.0     13\n",
      "Name: isDominated, dtype: int64\n",
      "\t\tAlgorithm MLP_NSGAII \n",
      "Retrieved 704 solutions\n",
      "1.0    696\n",
      "0.0      8\n",
      "Name: isDominated, dtype: int64\n",
      "\t\tAlgorithm MLP_Random \n",
      "Retrieved 690 solutions\n",
      "1.0    680\n",
      "0.0     10\n",
      "Name: isDominated, dtype: int64\n",
      "\t\tAlgorithm MLP_SMPSO \n",
      "Retrieved 713 solutions\n",
      "1.0    705\n",
      "0.0      8\n",
      "Name: isDominated, dtype: int64\n"
     ]
    }
   ],
   "source": [
    "# Add isDominated column for each algorithm\n",
    "for i in range(len(algorithms)):\n",
    "    print(\"\\t\\tAlgorithm\", algorithms[i], \"\\nRetrieved\", len(dfs[i]), \"solutions\")\n",
    "    dfs[i].drop(drop_cols, axis=1, inplace=True)\n",
    "    add_isdominated_cols(dfs[i])\n",
    "    dfs[i].sort_values(by=o1, inplace=True)"
   ]
  },
  {
   "cell_type": "code",
   "execution_count": 27,
   "metadata": {},
   "outputs": [],
   "source": [
    "# Get Non Dominated Solutions\n",
    "APFs = [df[df['isDominated'] == 0] for df in dfs]"
   ]
  },
  {
   "cell_type": "code",
   "execution_count": 28,
   "metadata": {},
   "outputs": [
    {
     "data": {
      "text/html": [
       "<div>\n",
       "<style scoped>\n",
       "    .dataframe tbody tr th:only-of-type {\n",
       "        vertical-align: middle;\n",
       "    }\n",
       "\n",
       "    .dataframe tbody tr th {\n",
       "        vertical-align: top;\n",
       "    }\n",
       "\n",
       "    .dataframe thead th {\n",
       "        text-align: right;\n",
       "    }\n",
       "</style>\n",
       "<table border=\"1\" class=\"dataframe\">\n",
       "  <thead>\n",
       "    <tr style=\"text-align: right;\">\n",
       "      <th></th>\n",
       "      <th>3</th>\n",
       "      <th>4</th>\n",
       "      <th>5</th>\n",
       "      <th>6</th>\n",
       "      <th>7</th>\n",
       "      <th>8</th>\n",
       "      <th>9</th>\n",
       "      <th>10</th>\n",
       "      <th>isDominated</th>\n",
       "      <th>dominatedBy</th>\n",
       "    </tr>\n",
       "  </thead>\n",
       "  <tbody>\n",
       "    <tr>\n",
       "      <th>171</th>\n",
       "      <td>1.304655</td>\n",
       "      <td>5.906405</td>\n",
       "      <td>1.560995</td>\n",
       "      <td>31.415927</td>\n",
       "      <td>-1.217642</td>\n",
       "      <td>8.778142</td>\n",
       "      <td>0.695300</td>\n",
       "      <td>74.892021</td>\n",
       "      <td>0.0</td>\n",
       "      <td>0.0</td>\n",
       "    </tr>\n",
       "    <tr>\n",
       "      <th>180</th>\n",
       "      <td>1.304655</td>\n",
       "      <td>5.906405</td>\n",
       "      <td>1.560995</td>\n",
       "      <td>31.321804</td>\n",
       "      <td>-1.217642</td>\n",
       "      <td>12.627863</td>\n",
       "      <td>0.717500</td>\n",
       "      <td>72.880843</td>\n",
       "      <td>0.0</td>\n",
       "      <td>0.0</td>\n",
       "    </tr>\n",
       "    <tr>\n",
       "      <th>124</th>\n",
       "      <td>1.304655</td>\n",
       "      <td>3.102786</td>\n",
       "      <td>1.570796</td>\n",
       "      <td>31.415927</td>\n",
       "      <td>-0.570711</td>\n",
       "      <td>12.627863</td>\n",
       "      <td>0.724191</td>\n",
       "      <td>72.874952</td>\n",
       "      <td>0.0</td>\n",
       "      <td>0.0</td>\n",
       "    </tr>\n",
       "    <tr>\n",
       "      <th>169</th>\n",
       "      <td>1.304655</td>\n",
       "      <td>3.102786</td>\n",
       "      <td>1.570796</td>\n",
       "      <td>31.415927</td>\n",
       "      <td>-0.570711</td>\n",
       "      <td>14.179300</td>\n",
       "      <td>0.736950</td>\n",
       "      <td>72.598807</td>\n",
       "      <td>0.0</td>\n",
       "      <td>0.0</td>\n",
       "    </tr>\n",
       "    <tr>\n",
       "      <th>449</th>\n",
       "      <td>-1.570796</td>\n",
       "      <td>0.000000</td>\n",
       "      <td>1.380533</td>\n",
       "      <td>25.101777</td>\n",
       "      <td>1.041782</td>\n",
       "      <td>20.125805</td>\n",
       "      <td>0.775972</td>\n",
       "      <td>65.936823</td>\n",
       "      <td>0.0</td>\n",
       "      <td>0.0</td>\n",
       "    </tr>\n",
       "  </tbody>\n",
       "</table>\n",
       "</div>"
      ],
      "text/plain": [
       "            3         4         5          6         7          8         9  \\\n",
       "171  1.304655  5.906405  1.560995  31.415927 -1.217642   8.778142  0.695300   \n",
       "180  1.304655  5.906405  1.560995  31.321804 -1.217642  12.627863  0.717500   \n",
       "124  1.304655  3.102786  1.570796  31.415927 -0.570711  12.627863  0.724191   \n",
       "169  1.304655  3.102786  1.570796  31.415927 -0.570711  14.179300  0.736950   \n",
       "449 -1.570796  0.000000  1.380533  25.101777  1.041782  20.125805  0.775972   \n",
       "\n",
       "            10  isDominated  dominatedBy  \n",
       "171  74.892021          0.0          0.0  \n",
       "180  72.880843          0.0          0.0  \n",
       "124  72.874952          0.0          0.0  \n",
       "169  72.598807          0.0          0.0  \n",
       "449  65.936823          0.0          0.0  "
      ]
     },
     "execution_count": 28,
     "metadata": {},
     "output_type": "execute_result"
    }
   ],
   "source": [
    "i = algorithms.index(\"GDE3\")\n",
    "APFs[i].head()\n",
    "\n",
    "# moead: 1.192813\t5.516787\t-0.883130\t20.340443\t-1.479601\t23.575989\t1.038524 objs: 1.038524    55.978605\n",
    "# smpso: 1.570796\t31.415927\t-1.570796\t31.415927\t1.454480\t5.826618\t0.576629\t78.072770"
   ]
  },
  {
   "cell_type": "markdown",
   "metadata": {},
   "source": [
    "### Collect True Pareto Front"
   ]
  },
  {
   "cell_type": "code",
   "execution_count": 188,
   "metadata": {},
   "outputs": [],
   "source": [
    "all_sols_file = \"all_solutions.csv\"\n",
    "r1_sols_file = \"all_solutions_r1.csv\"\n",
    "r2_sols_file = \"all_solutions_r2.csv\"\n",
    "r3_sols_file = \"all_solutions_r3.csv\""
   ]
  },
  {
   "cell_type": "code",
   "execution_count": 189,
   "metadata": {},
   "outputs": [],
   "source": [
    "def get_true_pf_data(file=all_sols_file, folder=\"final/outputs/\"):\n",
    "    filename = folder + file\n",
    "    return pd.read_csv(filename, sep=',', header=None)\n",
    "\n",
    "def process_pf(d):\n",
    "    d.drop(drop_cols, axis=1, inplace=True)\n",
    "    add_isdominated_cols(d)"
   ]
  },
  {
   "cell_type": "code",
   "execution_count": 190,
   "metadata": {},
   "outputs": [
    {
     "name": "stdout",
     "output_type": "stream",
     "text": [
      "1.0    13098\n",
      "0.0       29\n",
      "Name: isDominated, dtype: int64\n",
      "True Pareto Front\n"
     ]
    }
   ],
   "source": [
    "TPF = get_true_pf_data()\n",
    "process_pf(TPF)\n",
    "print(\"True Pareto Front\")\n",
    "TPF.describe()\n",
    "TPF.sort_values(by=o1, inplace=True)"
   ]
  },
  {
   "cell_type": "code",
   "execution_count": 175,
   "metadata": {},
   "outputs": [
    {
     "data": {
      "text/html": [
       "<div>\n",
       "<style scoped>\n",
       "    .dataframe tbody tr th:only-of-type {\n",
       "        vertical-align: middle;\n",
       "    }\n",
       "\n",
       "    .dataframe tbody tr th {\n",
       "        vertical-align: top;\n",
       "    }\n",
       "\n",
       "    .dataframe thead th {\n",
       "        text-align: right;\n",
       "    }\n",
       "</style>\n",
       "<table border=\"1\" class=\"dataframe\">\n",
       "  <thead>\n",
       "    <tr style=\"text-align: right;\">\n",
       "      <th></th>\n",
       "      <th>3</th>\n",
       "      <th>4</th>\n",
       "      <th>5</th>\n",
       "      <th>6</th>\n",
       "      <th>7</th>\n",
       "      <th>8</th>\n",
       "      <th>9</th>\n",
       "      <th>10</th>\n",
       "      <th>isDominated</th>\n",
       "      <th>dominatedBy</th>\n",
       "    </tr>\n",
       "  </thead>\n",
       "  <tbody>\n",
       "    <tr>\n",
       "      <th>count</th>\n",
       "      <td>13127.000000</td>\n",
       "      <td>13127.000000</td>\n",
       "      <td>13127.000000</td>\n",
       "      <td>13127.000000</td>\n",
       "      <td>13127.000000</td>\n",
       "      <td>13127.000000</td>\n",
       "      <td>13127.000000</td>\n",
       "      <td>13127.000000</td>\n",
       "      <td>13127.000000</td>\n",
       "      <td>13127.000000</td>\n",
       "    </tr>\n",
       "    <tr>\n",
       "      <th>mean</th>\n",
       "      <td>0.094451</td>\n",
       "      <td>11.305438</td>\n",
       "      <td>0.031115</td>\n",
       "      <td>12.269042</td>\n",
       "      <td>0.104918</td>\n",
       "      <td>11.424604</td>\n",
       "      <td>1.238065</td>\n",
       "      <td>36.455957</td>\n",
       "      <td>0.997791</td>\n",
       "      <td>135.200198</td>\n",
       "    </tr>\n",
       "    <tr>\n",
       "      <th>std</th>\n",
       "      <td>1.458253</td>\n",
       "      <td>8.594749</td>\n",
       "      <td>1.420494</td>\n",
       "      <td>8.676885</td>\n",
       "      <td>1.420706</td>\n",
       "      <td>7.888527</td>\n",
       "      <td>0.127045</td>\n",
       "      <td>15.030035</td>\n",
       "      <td>0.046952</td>\n",
       "      <td>620.651702</td>\n",
       "    </tr>\n",
       "    <tr>\n",
       "      <th>min</th>\n",
       "      <td>-3.141593</td>\n",
       "      <td>0.000000</td>\n",
       "      <td>-3.141593</td>\n",
       "      <td>0.000000</td>\n",
       "      <td>-3.141593</td>\n",
       "      <td>0.000000</td>\n",
       "      <td>0.576629</td>\n",
       "      <td>0.000000</td>\n",
       "      <td>0.000000</td>\n",
       "      <td>0.000000</td>\n",
       "    </tr>\n",
       "    <tr>\n",
       "      <th>25%</th>\n",
       "      <td>-1.076730</td>\n",
       "      <td>4.695171</td>\n",
       "      <td>-0.946134</td>\n",
       "      <td>5.205467</td>\n",
       "      <td>-0.856511</td>\n",
       "      <td>5.206773</td>\n",
       "      <td>1.164542</td>\n",
       "      <td>25.981562</td>\n",
       "      <td>1.000000</td>\n",
       "      <td>2.000000</td>\n",
       "    </tr>\n",
       "    <tr>\n",
       "      <th>50%</th>\n",
       "      <td>0.198772</td>\n",
       "      <td>9.227895</td>\n",
       "      <td>0.007949</td>\n",
       "      <td>10.857222</td>\n",
       "      <td>0.192907</td>\n",
       "      <td>10.340407</td>\n",
       "      <td>1.250986</td>\n",
       "      <td>38.197281</td>\n",
       "      <td>1.000000</td>\n",
       "      <td>16.000000</td>\n",
       "    </tr>\n",
       "    <tr>\n",
       "      <th>75%</th>\n",
       "      <td>1.209640</td>\n",
       "      <td>17.865079</td>\n",
       "      <td>1.057523</td>\n",
       "      <td>19.142639</td>\n",
       "      <td>1.047754</td>\n",
       "      <td>17.397197</td>\n",
       "      <td>1.324189</td>\n",
       "      <td>46.941621</td>\n",
       "      <td>1.000000</td>\n",
       "      <td>59.000000</td>\n",
       "    </tr>\n",
       "    <tr>\n",
       "      <th>max</th>\n",
       "      <td>3.141593</td>\n",
       "      <td>31.415927</td>\n",
       "      <td>3.141593</td>\n",
       "      <td>31.415927</td>\n",
       "      <td>3.141593</td>\n",
       "      <td>31.415927</td>\n",
       "      <td>1.857447</td>\n",
       "      <td>88.896425</td>\n",
       "      <td>1.000000</td>\n",
       "      <td>13080.000000</td>\n",
       "    </tr>\n",
       "  </tbody>\n",
       "</table>\n",
       "</div>"
      ],
      "text/plain": [
       "                  3             4             5             6             7  \\\n",
       "count  13127.000000  13127.000000  13127.000000  13127.000000  13127.000000   \n",
       "mean       0.094451     11.305438      0.031115     12.269042      0.104918   \n",
       "std        1.458253      8.594749      1.420494      8.676885      1.420706   \n",
       "min       -3.141593      0.000000     -3.141593      0.000000     -3.141593   \n",
       "25%       -1.076730      4.695171     -0.946134      5.205467     -0.856511   \n",
       "50%        0.198772      9.227895      0.007949     10.857222      0.192907   \n",
       "75%        1.209640     17.865079      1.057523     19.142639      1.047754   \n",
       "max        3.141593     31.415927      3.141593     31.415927      3.141593   \n",
       "\n",
       "                  8             9            10   isDominated   dominatedBy  \n",
       "count  13127.000000  13127.000000  13127.000000  13127.000000  13127.000000  \n",
       "mean      11.424604      1.238065     36.455957      0.997791    135.200198  \n",
       "std        7.888527      0.127045     15.030035      0.046952    620.651702  \n",
       "min        0.000000      0.576629      0.000000      0.000000      0.000000  \n",
       "25%        5.206773      1.164542     25.981562      1.000000      2.000000  \n",
       "50%       10.340407      1.250986     38.197281      1.000000     16.000000  \n",
       "75%       17.397197      1.324189     46.941621      1.000000     59.000000  \n",
       "max       31.415927      1.857447     88.896425      1.000000  13080.000000  "
      ]
     },
     "execution_count": 175,
     "metadata": {},
     "output_type": "execute_result"
    }
   ],
   "source": [
    "TPF.sort_values(by=o1, inplace=True)\n",
    "TPF.describe()"
   ]
  },
  {
   "cell_type": "markdown",
   "metadata": {},
   "source": [
    "# Visual Processing"
   ]
  },
  {
   "cell_type": "code",
   "execution_count": 34,
   "metadata": {},
   "outputs": [
    {
     "data": {
      "text/plain": [
       "'3.7.1'"
      ]
     },
     "execution_count": 34,
     "metadata": {},
     "output_type": "execute_result"
    }
   ],
   "source": [
    "import plotly\n",
    "import plotly.plotly as py\n",
    "import plotly.graph_objs as go\n",
    "\n",
    "plotly.__version__"
   ]
  },
  {
   "cell_type": "code",
   "execution_count": 135,
   "metadata": {},
   "outputs": [],
   "source": [
    "import plotly.io as pio"
   ]
  },
  {
   "cell_type": "code",
   "execution_count": 35,
   "metadata": {},
   "outputs": [],
   "source": [
    "# plotly.tools.set_credentials_file(username='PastelBelem8', api_key='X8k1mloXRlB24rZm0qyq')\n",
    "plotly.tools.set_credentials_file(username='KatarinaBelem', api_key='u5cJ4twW7lnZi128Bgjm')"
   ]
  },
  {
   "cell_type": "code",
   "execution_count": 209,
   "metadata": {},
   "outputs": [],
   "source": [
    "colors = [\n",
    "    # Verde\n",
    "    'rgb(81, 142, 12)',\n",
    "    # Vermelho\n",
    "    'rgb(255, 0, 0)',\n",
    "    # Roxo\n",
    "    'rgb(152, 64, 188)',\n",
    "    # Azul \n",
    "    'rgb(13, 188, 188)', \n",
    "    # Amarelo\n",
    "    'rgb(255, 165, 21)',\n",
    "    # Rosa\n",
    "    'rgb(219, 31, 152)',\n",
    "    # Cinzento claro\n",
    "    'rgb(119, 130, 118)',\n",
    "    # Azul escuro\n",
    "    'rgb(0, 0, 255)',\n",
    "    # Castanho\n",
    "    'rgb(128, 64, 0)',\n",
    "    \n",
    "    # Metamodels\n",
    "    # Bubblegum 1\n",
    "    'rgb(128, 204, 204)',\n",
    "    # Blanched almond 2\n",
    "    'rgb(128, 238, 204)',\n",
    "    # Goldenrod yellow 3\n",
    "    'rgb(238, 128, 102)',\n",
    "    # Mint Green 4\n",
    "    'rgb(128, 255, 170)',\n",
    "    # Electric Blue 5\n",
    "    'rgb(102, 255, 255)',\n",
    "    # Ultramarine blue 6\n",
    "    'rgb(51, 119, 255)',\n",
    "    # Pale cornflower blue 7\n",
    "    'rgb(179, 191, 255)',\n",
    "    # Lavender floral 8\n",
    "    'rgb(170, 128, 255)',\n",
    "    # Shocking pink 9\n",
    "    'rgb(153,0,76)',\n",
    "    # Preto\n",
    "    'rgb(0, 100, 0)'\n",
    "    ]"
   ]
  },
  {
   "cell_type": "code",
   "execution_count": 204,
   "metadata": {},
   "outputs": [],
   "source": [
    "layout = go.Layout(\n",
    "    # title = \"Solutions of the minimization of two goals of an arc-shaped space frame\",\n",
    "    showlegend=True,\n",
    "    # showlegend=False,\n",
    "    autosize=False,\n",
    "        # Definir tamanho do gráfico\n",
    "    width=1000,\n",
    "    height=600,\n",
    "    legend=dict(orientation=\"v\", \n",
    "                #xanchor=\"center\", \n",
    "                #yanchor=\"bottom\",\n",
    "                #x= 0.5,\n",
    "                #y=-0.5\n",
    "               ),\n",
    "    xaxis=dict(\n",
    "        title=\"Maximum Displacement\",\n",
    "        range=[0.57, 1.42], \n",
    "        # autorange=True,\n",
    "        showgrid=True,\n",
    "        zeroline=False,\n",
    "        showline=True,\n",
    "        ticks='',\n",
    "        showticklabels=True\n",
    "    ),\n",
    "    yaxis=dict(\n",
    "        title=\"Euclidean Distance\",\n",
    "        range=[0, 82],\n",
    "        # autorange=True,        \n",
    "        showgrid=True,\n",
    "        zeroline=False,\n",
    "        showline=True,\n",
    "        ticks='',\n",
    "        showticklabels=True\n",
    "    )\n",
    "    )"
   ]
  },
  {
   "cell_type": "code",
   "execution_count": 213,
   "metadata": {},
   "outputs": [],
   "source": [
    "def create_pf(algs=algorithms, colors=colors, layout=layout, approximatedPFs=APFs, combinedPf=TPF):\n",
    "    # Create traces for each algorithm\n",
    "    traces = []\n",
    "    for i, a in enumerate(algorithms):\n",
    "        trace = go.Scatter(\n",
    "                    x = approximatedPFs[i][o1],\n",
    "                    y = approximatedPFs[i][o2],\n",
    "                    # mode = 'markers',\n",
    "                    mode = 'lines+markers',\n",
    "                    name = a,\n",
    "                    marker=dict(\n",
    "                        size=3.5,\n",
    "                        color = colors[i],\n",
    "                        opacity=1\n",
    "                    ),\n",
    "                    line=dict(\n",
    "                        width=1,\n",
    "                        color = colors[i]\n",
    "                    ))\n",
    "        traces += [trace]\n",
    "     \n",
    "    if combinedPf is not None:\n",
    "        tpf_o1 = combinedPf[combinedPf['isDominated'] == 0][o1]\n",
    "        tpf_o2 = combinedPf[combinedPf['isDominated'] == 0][o2]\n",
    "    \n",
    "        # Add True PF\n",
    "        tpf_trace = go.Scatter(\n",
    "            x = tpf_o1,\n",
    "            y = tpf_o2,\n",
    "            mode = 'markers',\n",
    "            name = \"All Algorithms\",\n",
    "            marker=dict(\n",
    "                size=4.5,\n",
    "                color = 'rgb(64, 64, 64)',\n",
    "                opacity=1,\n",
    "                line = dict(\n",
    "                         color = 'rgb(64, 64, 64)',\n",
    "                          width = 1\n",
    "                )\n",
    "                )\n",
    "            )\n",
    "        traces.append(tpf_trace)\n",
    "    fig = go.Figure(data=traces, layout=layout)\n",
    "    return fig, py.iplot(fig, filename='AllAlgorithmsPfs')"
   ]
  },
  {
   "cell_type": "code",
   "execution_count": 214,
   "metadata": {},
   "outputs": [
    {
     "data": {
      "text/html": [
       "<iframe id=\"igraph\" scrolling=\"no\" style=\"border:none;\" seamless=\"seamless\" src=\"https://plot.ly/~KatarinaBelem/2.embed\" height=\"600px\" width=\"1000px\"></iframe>"
      ],
      "text/plain": [
       "<plotly.tools.PlotlyDisplay object>"
      ]
     },
     "execution_count": 214,
     "metadata": {},
     "output_type": "execute_result"
    }
   ],
   "source": [
    "fig, graph = create_pf()\n",
    "graph"
   ]
  },
  {
   "cell_type": "code",
   "execution_count": 158,
   "metadata": {},
   "outputs": [],
   "source": [
    "pio.write_image(fig, 'all_pfs.svg', format='svg')"
   ]
  },
  {
   "cell_type": "markdown",
   "metadata": {},
   "source": [
    "# All the points..."
   ]
  },
  {
   "cell_type": "code",
   "execution_count": 41,
   "metadata": {},
   "outputs": [],
   "source": [
    "def create_dispersion_plot(algorithms=algorithms, colors=colors, layout=layout, data=dfs, combinedPf=TPF):\n",
    "    # Create traces for each algorithm\n",
    "    traces = []\n",
    "    for i, a in enumerate(algorithms):\n",
    "        datum = data[i]\n",
    "        trace1 = go.Scatter(\n",
    "                    x = datum[datum['isDominated'] == 0][o1],\n",
    "                    y = datum[datum['isDominated'] == 0][o2],\n",
    "                    #legendgroup = a,\n",
    "                    name = a + \" Non-dominated\",\n",
    "                    mode = 'lines+markers',\n",
    "                    marker=dict(\n",
    "                        size=5,\n",
    "                        color = colors[i],\n",
    "                        opacity=1\n",
    "                    ),\n",
    "                    line=dict(\n",
    "                        color = colors[i]\n",
    "                    ))\n",
    "        trace2 = go.Scatter(\n",
    "                    x = datum[datum['isDominated'] == 1][o1],\n",
    "                    y = datum[datum['isDominated'] == 1][o2],\n",
    "                    # legendgroup = a,\n",
    "                    name = a + \" dominated\",\n",
    "                    mode = 'markers',\n",
    "                    marker=dict(\n",
    "                        size=2.5,\n",
    "                        color = colors[i],\n",
    "                        opacity=0.8\n",
    "                    ))\n",
    "\n",
    "        traces += [trace1, trace2]\n",
    "    if combinedPf is not None:\n",
    "        tpf_o1 = combinedPf[combinedPf['isDominated'] == 0][o1]\n",
    "        tpf_o2 = combinedPf[combinedPf['isDominated'] == 0][o2]\n",
    "\n",
    "        tpf_trace = go.Scatter(\n",
    "            x = tpf_o1,\n",
    "            y = tpf_o2,\n",
    "            mode = 'markers',\n",
    "            name = \"Combined Pareto Front\",\n",
    "            marker=dict(\n",
    "                size=6,\n",
    "                color = 'rgb(16, 46, 51)',\n",
    "                opacity=1\n",
    "                #line = dict(\n",
    "               #     color = 'rgb(255, 255, 255)',\n",
    "              #      width = 0.25\n",
    "                 # )\n",
    "                )\n",
    "        )\n",
    "        traces.append(tpf_trace)\n",
    "    fig = go.Figure(data=traces, layout=layout)\n",
    "    return py.iplot(fig, filename='ALL-TOGETHER-NOW')"
   ]
  },
  {
   "cell_type": "code",
   "execution_count": 42,
   "metadata": {
    "scrolled": false
   },
   "outputs": [
    {
     "name": "stdout",
     "output_type": "stream",
     "text": [
      "High five! You successfully sent some data to your account on plotly. View your plot in your browser at https://plot.ly/~KatarinaBelem/0 or inside your plot.ly account where it is named 'ALL-TOGETHER-NOW'\n"
     ]
    },
    {
     "data": {
      "text/html": [
       "<iframe id=\"igraph\" scrolling=\"no\" style=\"border:none;\" seamless=\"seamless\" src=\"https://plot.ly/~KatarinaBelem/0.embed\" height=\"525px\" width=\"100%\"></iframe>"
      ],
      "text/plain": [
       "<plotly.tools.PlotlyDisplay object>"
      ]
     },
     "execution_count": 42,
     "metadata": {},
     "output_type": "execute_result"
    }
   ],
   "source": [
    "create_dispersion_plot()"
   ]
  },
  {
   "cell_type": "code",
   "execution_count": 172,
   "metadata": {},
   "outputs": [],
   "source": [
    "def write_nondominated(data, file, folder=output_folder, header=False):\n",
    "    data.to_csv(folder + file, header=header, index=False)"
   ]
  },
  {
   "cell_type": "code",
   "execution_count": 169,
   "metadata": {},
   "outputs": [],
   "source": [
    "TPF_nd = TPF[TPF['isDominated']==0].copy()"
   ]
  },
  {
   "cell_type": "code",
   "execution_count": 170,
   "metadata": {},
   "outputs": [
    {
     "data": {
      "text/html": [
       "<div>\n",
       "<style scoped>\n",
       "    .dataframe tbody tr th:only-of-type {\n",
       "        vertical-align: middle;\n",
       "    }\n",
       "\n",
       "    .dataframe tbody tr th {\n",
       "        vertical-align: top;\n",
       "    }\n",
       "\n",
       "    .dataframe thead th {\n",
       "        text-align: right;\n",
       "    }\n",
       "</style>\n",
       "<table border=\"1\" class=\"dataframe\">\n",
       "  <thead>\n",
       "    <tr style=\"text-align: right;\">\n",
       "      <th></th>\n",
       "      <th>3</th>\n",
       "      <th>4</th>\n",
       "      <th>5</th>\n",
       "      <th>6</th>\n",
       "      <th>7</th>\n",
       "      <th>8</th>\n",
       "      <th>9</th>\n",
       "      <th>10</th>\n",
       "      <th>isDominated</th>\n",
       "      <th>dominatedBy</th>\n",
       "    </tr>\n",
       "  </thead>\n",
       "  <tbody>\n",
       "    <tr>\n",
       "      <th>count</th>\n",
       "      <td>29.000000</td>\n",
       "      <td>29.000000</td>\n",
       "      <td>29.000000</td>\n",
       "      <td>29.000000</td>\n",
       "      <td>29.000000</td>\n",
       "      <td>29.000000</td>\n",
       "      <td>29.000000</td>\n",
       "      <td>29.000000</td>\n",
       "      <td>29.0</td>\n",
       "      <td>29.0</td>\n",
       "    </tr>\n",
       "    <tr>\n",
       "      <th>mean</th>\n",
       "      <td>0.608294</td>\n",
       "      <td>22.319318</td>\n",
       "      <td>0.019031</td>\n",
       "      <td>20.897644</td>\n",
       "      <td>0.031965</td>\n",
       "      <td>20.378585</td>\n",
       "      <td>1.062038</td>\n",
       "      <td>17.090279</td>\n",
       "      <td>0.0</td>\n",
       "      <td>0.0</td>\n",
       "    </tr>\n",
       "    <tr>\n",
       "      <th>std</th>\n",
       "      <td>1.076996</td>\n",
       "      <td>8.986277</td>\n",
       "      <td>1.136277</td>\n",
       "      <td>7.851800</td>\n",
       "      <td>1.179605</td>\n",
       "      <td>8.781610</td>\n",
       "      <td>0.240045</td>\n",
       "      <td>19.236103</td>\n",
       "      <td>0.0</td>\n",
       "      <td>0.0</td>\n",
       "    </tr>\n",
       "    <tr>\n",
       "      <th>min</th>\n",
       "      <td>-1.539420</td>\n",
       "      <td>5.157933</td>\n",
       "      <td>-1.570796</td>\n",
       "      <td>6.283185</td>\n",
       "      <td>-1.570796</td>\n",
       "      <td>5.253225</td>\n",
       "      <td>0.576629</td>\n",
       "      <td>0.000000</td>\n",
       "      <td>0.0</td>\n",
       "      <td>0.0</td>\n",
       "    </tr>\n",
       "    <tr>\n",
       "      <th>25%</th>\n",
       "      <td>0.777679</td>\n",
       "      <td>17.956169</td>\n",
       "      <td>-1.142830</td>\n",
       "      <td>16.632292</td>\n",
       "      <td>-1.195345</td>\n",
       "      <td>15.844965</td>\n",
       "      <td>0.921825</td>\n",
       "      <td>2.715903</td>\n",
       "      <td>0.0</td>\n",
       "      <td>0.0</td>\n",
       "    </tr>\n",
       "    <tr>\n",
       "      <th>50%</th>\n",
       "      <td>0.777679</td>\n",
       "      <td>18.102328</td>\n",
       "      <td>0.806111</td>\n",
       "      <td>17.969714</td>\n",
       "      <td>0.795472</td>\n",
       "      <td>17.397197</td>\n",
       "      <td>1.171189</td>\n",
       "      <td>7.671988</td>\n",
       "      <td>0.0</td>\n",
       "      <td>0.0</td>\n",
       "    </tr>\n",
       "    <tr>\n",
       "      <th>75%</th>\n",
       "      <td>1.484440</td>\n",
       "      <td>31.415927</td>\n",
       "      <td>0.806111</td>\n",
       "      <td>27.149803</td>\n",
       "      <td>0.795472</td>\n",
       "      <td>27.632602</td>\n",
       "      <td>1.261202</td>\n",
       "      <td>36.266240</td>\n",
       "      <td>0.0</td>\n",
       "      <td>0.0</td>\n",
       "    </tr>\n",
       "    <tr>\n",
       "      <th>max</th>\n",
       "      <td>1.570796</td>\n",
       "      <td>31.415927</td>\n",
       "      <td>1.570796</td>\n",
       "      <td>31.415927</td>\n",
       "      <td>1.570796</td>\n",
       "      <td>31.415927</td>\n",
       "      <td>1.308722</td>\n",
       "      <td>78.072770</td>\n",
       "      <td>0.0</td>\n",
       "      <td>0.0</td>\n",
       "    </tr>\n",
       "  </tbody>\n",
       "</table>\n",
       "</div>"
      ],
      "text/plain": [
       "               3          4          5          6          7          8  \\\n",
       "count  29.000000  29.000000  29.000000  29.000000  29.000000  29.000000   \n",
       "mean    0.608294  22.319318   0.019031  20.897644   0.031965  20.378585   \n",
       "std     1.076996   8.986277   1.136277   7.851800   1.179605   8.781610   \n",
       "min    -1.539420   5.157933  -1.570796   6.283185  -1.570796   5.253225   \n",
       "25%     0.777679  17.956169  -1.142830  16.632292  -1.195345  15.844965   \n",
       "50%     0.777679  18.102328   0.806111  17.969714   0.795472  17.397197   \n",
       "75%     1.484440  31.415927   0.806111  27.149803   0.795472  27.632602   \n",
       "max     1.570796  31.415927   1.570796  31.415927   1.570796  31.415927   \n",
       "\n",
       "               9         10  isDominated  dominatedBy  \n",
       "count  29.000000  29.000000         29.0         29.0  \n",
       "mean    1.062038  17.090279          0.0          0.0  \n",
       "std     0.240045  19.236103          0.0          0.0  \n",
       "min     0.576629   0.000000          0.0          0.0  \n",
       "25%     0.921825   2.715903          0.0          0.0  \n",
       "50%     1.171189   7.671988          0.0          0.0  \n",
       "75%     1.261202  36.266240          0.0          0.0  \n",
       "max     1.308722  78.072770          0.0          0.0  "
      ]
     },
     "execution_count": 170,
     "metadata": {},
     "output_type": "execute_result"
    }
   ],
   "source": [
    "TPF_nd.drop_duplicates(subset=objs_cols).describe()"
   ]
  },
  {
   "cell_type": "code",
   "execution_count": 173,
   "metadata": {},
   "outputs": [],
   "source": [
    "write_nondominated(TPF_nd, \"nondominated_o1_asc.csv\")"
   ]
  },
  {
   "cell_type": "code",
   "execution_count": 191,
   "metadata": {},
   "outputs": [],
   "source": [
    "def get_and_write(file, outfile):\n",
    "    all_sols = get_true_pf_data(file)\n",
    "    process_pf(all_sols)\n",
    "    all_sols.sort_values(by=o1, inplace=True)\n",
    "    all_sols_nd = all_sols[all_sols['isDominated']==0].copy()\n",
    "    all_sols_nd.drop_duplicates(subset=objs_cols, inplace=True)\n",
    "    write_nondominated(all_sols_nd, outfile)"
   ]
  },
  {
   "cell_type": "code",
   "execution_count": 192,
   "metadata": {},
   "outputs": [
    {
     "name": "stdout",
     "output_type": "stream",
     "text": [
      "1.0    4332\n",
      "0.0      14\n",
      "Name: isDominated, dtype: int64\n"
     ]
    }
   ],
   "source": [
    "get_and_write(r1_sols_file, \"nondominated_r1_o1_asc.csv\")"
   ]
  },
  {
   "cell_type": "code",
   "execution_count": 193,
   "metadata": {},
   "outputs": [
    {
     "name": "stdout",
     "output_type": "stream",
     "text": [
      "1.0    4519\n",
      "0.0      24\n",
      "Name: isDominated, dtype: int64\n"
     ]
    }
   ],
   "source": [
    "get_and_write(r2_sols_file, \"nondominated_r2_o1_asc.csv\")"
   ]
  },
  {
   "cell_type": "code",
   "execution_count": 194,
   "metadata": {},
   "outputs": [
    {
     "name": "stdout",
     "output_type": "stream",
     "text": [
      "1.0    4219\n",
      "0.0      19\n",
      "Name: isDominated, dtype: int64\n"
     ]
    }
   ],
   "source": [
    "get_and_write(r3_sols_file, \"nondominated_r3_o1_asc.csv\")"
   ]
  },
  {
   "cell_type": "markdown",
   "metadata": {},
   "source": [
    "Contrastingly, when considering HV, if we compute the average of each run, PAES exhibits the largest volume,\n",
    "hence strongly indicating that it is the best algorithm, with SMPSO, OMOPSO and MOEA/D\n",
    "having the worst behaviors. However, when considering the combination of the three runs,\n",
    "this situation is reversed and SMPSO and OMOPSO exhibit the best behaviors."
   ]
  },
  {
   "cell_type": "code",
   "execution_count": null,
   "metadata": {},
   "outputs": [],
   "source": [
    "df_extra_spea2 = df_extra_spea2.convert_objects(convert_numeric=True)\n",
    "df_extra_spea2.info()"
   ]
  },
  {
   "cell_type": "code",
   "execution_count": null,
   "metadata": {},
   "outputs": [],
   "source": [
    "# Additional run of SPEA2 for 1250 evaluations (50 generations of 25 individuals)\n",
    "# df_extra_spea2_original = pd.read_csv(\"final/SPEA2_2000.csv\", sep=',')\n",
    "# Additional run of SPEA2 for 4000 evaluations (40 generations of 100 individuals)\n",
    "df_extra_spea2_original = pd.read_csv(\"final/SPEA2_4000.csv\", sep=',')\n",
    "\n",
    "df_extra_spea2_original.drop([\"Total time (s)\", \"Time o1\", \"Time o2\"], axis=1, inplace=True)\n",
    "df_extra_spea2 = df_extra_spea2_original.copy()"
   ]
  },
  {
   "cell_type": "code",
   "execution_count": null,
   "metadata": {},
   "outputs": [],
   "source": [
    "df_extra_spea2[(df_extra_spea2[\"O1\"] < 1) & (df_extra_spea2[\"O2\"] < 60)].sort_values(by=\"O2\")"
   ]
  },
  {
   "cell_type": "code",
   "execution_count": null,
   "metadata": {},
   "outputs": [],
   "source": [
    "#df_extra_spea2.sort_values(by=\"O1\", inplace=True)\n",
    "add_isdominated_cols(df_extra_spea2, cols=[\"O1\", \"O2\"])"
   ]
  },
  {
   "cell_type": "code",
   "execution_count": null,
   "metadata": {},
   "outputs": [],
   "source": [
    "df_extra_spea2.sort_values(by=\"O1\", inplace=True)\n",
    "df_extra_spea2.head()"
   ]
  },
  {
   "cell_type": "code",
   "execution_count": null,
   "metadata": {},
   "outputs": [],
   "source": [
    "traces3 = []\n",
    "df_extra_spea2.sort_values(by=\"O1\", inplace=True)\n",
    "trace_extra_3 = go.Scatter(\n",
    "                x = df_extra_spea2[df_extra_spea2['isDominated'] == 0][\"O1\"],\n",
    "                y = df_extra_spea2[df_extra_spea2['isDominated'] == 0][\"O2\"],\n",
    "                legendgroup = \"Extra Spea2\",\n",
    "                name = \"Extra SPEA2-4000 Non-dominated\",\n",
    "                mode = 'lines+markers',\n",
    "                marker=dict(\n",
    "                    size=5,\n",
    "                    color = \"rgb(0, 255, 0)\",\n",
    "                    opacity=1\n",
    "                ),\n",
    "                line=dict(\n",
    "                    color = \"rgb(0, 255, 0)\"\n",
    "                ))\n",
    "trace_extra_4 = go.Scatter(\n",
    "                x = df_extra_spea2[df_extra_spea2['isDominated'] == 1][\"O1\"],\n",
    "                y = df_extra_spea2[df_extra_spea2['isDominated'] == 1][\"O2\"],\n",
    "                legendgroup = \"Extra Spea2\",\n",
    "                name = \"Extra SPEA2-4000 dominated\",\n",
    "                mode = 'markers',\n",
    "                marker=dict(\n",
    "                    size=2.5,\n",
    "                    color = \"rgb(0, 255, 0)\",\n",
    "                    opacity=0.8\n",
    "                ))"
   ]
  },
  {
   "cell_type": "code",
   "execution_count": null,
   "metadata": {},
   "outputs": [],
   "source": []
  },
  {
   "cell_type": "code",
   "execution_count": null,
   "metadata": {},
   "outputs": [],
   "source": [
    "traces3 = traces2 + [trace_extra_3, trace_extra_4]"
   ]
  },
  {
   "cell_type": "code",
   "execution_count": null,
   "metadata": {},
   "outputs": [],
   "source": [
    "fig = go.Figure(data=traces3)\n",
    "py.iplot(fig, filename='Extra Run')"
   ]
  },
  {
   "cell_type": "code",
   "execution_count": null,
   "metadata": {},
   "outputs": [],
   "source": [
    "df_extra_spea2[(df_extra_spea2[\"O1\"] <= 0.95) & (df_extra_spea2[\"O2\"] <= 21)]"
   ]
  },
  {
   "cell_type": "code",
   "execution_count": null,
   "metadata": {},
   "outputs": [],
   "source": [
    "df_extra_spea2.iloc[93:94]"
   ]
  },
  {
   "cell_type": "code",
   "execution_count": null,
   "metadata": {},
   "outputs": [],
   "source": [
    "# Additional run of SPEA2 for 1250 evaluations (50 generations of 25 individuals)\n",
    "# df_extra_spea2_original = pd.read_csv(\"final/SPEA2_2000.csv\", sep=',')\n",
    "# Additional run of SPEA2 for 4000 evaluations (40 generations of 100 individuals)\n",
    "df_extra_smpso_original = pd.read_csv(\"final/outputs/all_SMPSO_2_solutions.csv\", sep=',', header=None)\n",
    "df_extra_smpso_original.head()"
   ]
  },
  {
   "cell_type": "code",
   "execution_count": null,
   "metadata": {},
   "outputs": [],
   "source": [
    "#df_extra_spea2.sort_values(by=\"O1\", inplace=True)\n",
    "add_isdominated_cols(df_extra_smpso_original)"
   ]
  },
  {
   "cell_type": "code",
   "execution_count": null,
   "metadata": {},
   "outputs": [],
   "source": [
    "traces4 = []\n",
    "df_extra_smpso_original.sort_values(by=9, inplace=True)\n",
    "trace_extra_5 = go.Scatter(\n",
    "                x = df_extra_smpso_original[df_extra_smpso_original['isDominated'] == 0][o1],\n",
    "                y = df_extra_smpso_original[df_extra_smpso_original['isDominated'] == 0][o2],\n",
    "                legendgroup = \"Extra SMPSO\",\n",
    "                name = \"Extra SMPSO Non-dominated\",\n",
    "                mode = 'lines+markers',\n",
    "                marker=dict(\n",
    "                    size=5,\n",
    "                    color = \"rgb(255, 0, 0)\",\n",
    "                    opacity=1\n",
    "                ),\n",
    "                line=dict(\n",
    "                    color = \"rgb(255, 0, 0)\"\n",
    "                ))\n",
    "trace_extra_6 = go.Scatter(\n",
    "                x = df_extra_smpso_original[df_extra_smpso_original['isDominated'] == 1][o1],\n",
    "                y = df_extra_smpso_original[df_extra_smpso_original['isDominated'] == 1][o2],\n",
    "                legendgroup = \"Extra SMPSO\",\n",
    "                name = \"Extra SMPSO dominated\",\n",
    "                mode = 'markers',\n",
    "                marker=dict(\n",
    "                    size=2.5,\n",
    "                    color = \"rgb(255, 0, 0)\",\n",
    "                    opacity=0.8\n",
    "                ))"
   ]
  },
  {
   "cell_type": "code",
   "execution_count": null,
   "metadata": {},
   "outputs": [],
   "source": [
    "traces4 = traces3 + [trace_extra_5, trace_extra_6]"
   ]
  },
  {
   "cell_type": "code",
   "execution_count": null,
   "metadata": {},
   "outputs": [],
   "source": [
    "fig = go.Figure(data=traces4)\n",
    "py.iplot(fig, filename='Extra Run')"
   ]
  },
  {
   "cell_type": "markdown",
   "metadata": {},
   "source": [
    "###  Check Min and Max Values per iteration..."
   ]
  },
  {
   "cell_type": "code",
   "execution_count": null,
   "metadata": {},
   "outputs": [],
   "source": [
    "pop_size = 25\n",
    "nrows=df_extra_spea2.shape[0]\n",
    "nrows"
   ]
  },
  {
   "cell_type": "code",
   "execution_count": null,
   "metadata": {},
   "outputs": [],
   "source": [
    "n_iterations = nrows // pop_size\n",
    "n_iterations"
   ]
  },
  {
   "cell_type": "code",
   "execution_count": null,
   "metadata": {},
   "outputs": [],
   "source": [
    "df_extra_spea2_original.iloc[0:2] # Syntax Example"
   ]
  },
  {
   "cell_type": "code",
   "execution_count": null,
   "metadata": {},
   "outputs": [],
   "source": [
    "df_iterations = []\n",
    "for i in range(n_iterations + 1):\n",
    "    i_in, i_end = i * pop_size, i*pop_size+1\n",
    "    df_iterations += [df_extra_spea2_original.loc[i_in:i_end].copy()]"
   ]
  },
  {
   "cell_type": "code",
   "execution_count": null,
   "metadata": {},
   "outputs": [],
   "source": [
    "len(df_iterations)"
   ]
  },
  {
   "cell_type": "code",
   "execution_count": null,
   "metadata": {},
   "outputs": [],
   "source": [
    "df_iterations"
   ]
  },
  {
   "cell_type": "code",
   "execution_count": null,
   "metadata": {},
   "outputs": [],
   "source": []
  },
  {
   "cell_type": "code",
   "execution_count": null,
   "metadata": {},
   "outputs": [],
   "source": [
    "iterations_min = pd.DataFrame(columns=df_iterations[1].columns)\n",
    "for iteration in df_iterations:\n",
    "    iterations_min.append(iteration.min(), ignore_index=True)\n",
    "iterations_min"
   ]
  },
  {
   "cell_type": "code",
   "execution_count": null,
   "metadata": {},
   "outputs": [],
   "source": [
    "df_iterations"
   ]
  },
  {
   "cell_type": "markdown",
   "metadata": {},
   "source": [
    "# Indicators Processing"
   ]
  },
  {
   "cell_type": "code",
   "execution_count": 225,
   "metadata": {},
   "outputs": [
    {
     "data": {
      "text/html": [
       "<div>\n",
       "<style scoped>\n",
       "    .dataframe tbody tr th:only-of-type {\n",
       "        vertical-align: middle;\n",
       "    }\n",
       "\n",
       "    .dataframe tbody tr th {\n",
       "        vertical-align: top;\n",
       "    }\n",
       "\n",
       "    .dataframe thead th {\n",
       "        text-align: right;\n",
       "    }\n",
       "</style>\n",
       "<table border=\"1\" class=\"dataframe\">\n",
       "  <thead>\n",
       "    <tr style=\"text-align: right;\">\n",
       "      <th></th>\n",
       "      <th>Algorithm</th>\n",
       "      <th>Run</th>\n",
       "      <th>HV</th>\n",
       "      <th>ONVG</th>\n",
       "      <th>SPACING</th>\n",
       "      <th>SPREAD</th>\n",
       "      <th>MAXIMUM SPREAD</th>\n",
       "      <th>ONVGR</th>\n",
       "      <th>Error Ratio</th>\n",
       "      <th>Max Pareto Front Error</th>\n",
       "      <th>GD</th>\n",
       "      <th>IGD</th>\n",
       "    </tr>\n",
       "  </thead>\n",
       "  <tbody>\n",
       "    <tr>\n",
       "      <th>3</th>\n",
       "      <td>SMPSO</td>\n",
       "      <td>1</td>\n",
       "      <td>0.659228</td>\n",
       "      <td>NaN</td>\n",
       "      <td>NaN</td>\n",
       "      <td>NaN</td>\n",
       "      <td>NaN</td>\n",
       "      <td>NaN</td>\n",
       "      <td>NaN</td>\n",
       "      <td>NaN</td>\n",
       "      <td>NaN</td>\n",
       "      <td>NaN</td>\n",
       "    </tr>\n",
       "    <tr>\n",
       "      <th>4</th>\n",
       "      <td>SMPSO</td>\n",
       "      <td>2</td>\n",
       "      <td>0.750527</td>\n",
       "      <td>NaN</td>\n",
       "      <td>NaN</td>\n",
       "      <td>NaN</td>\n",
       "      <td>NaN</td>\n",
       "      <td>NaN</td>\n",
       "      <td>NaN</td>\n",
       "      <td>NaN</td>\n",
       "      <td>NaN</td>\n",
       "      <td>NaN</td>\n",
       "    </tr>\n",
       "    <tr>\n",
       "      <th>5</th>\n",
       "      <td>SMPSO</td>\n",
       "      <td>3</td>\n",
       "      <td>0.765932</td>\n",
       "      <td>NaN</td>\n",
       "      <td>NaN</td>\n",
       "      <td>NaN</td>\n",
       "      <td>NaN</td>\n",
       "      <td>NaN</td>\n",
       "      <td>NaN</td>\n",
       "      <td>NaN</td>\n",
       "      <td>NaN</td>\n",
       "      <td>NaN</td>\n",
       "    </tr>\n",
       "    <tr>\n",
       "      <th>6</th>\n",
       "      <td>MOEAD</td>\n",
       "      <td>1</td>\n",
       "      <td>0.527267</td>\n",
       "      <td>NaN</td>\n",
       "      <td>NaN</td>\n",
       "      <td>NaN</td>\n",
       "      <td>NaN</td>\n",
       "      <td>NaN</td>\n",
       "      <td>NaN</td>\n",
       "      <td>NaN</td>\n",
       "      <td>NaN</td>\n",
       "      <td>NaN</td>\n",
       "    </tr>\n",
       "    <tr>\n",
       "      <th>7</th>\n",
       "      <td>MOEAD</td>\n",
       "      <td>2</td>\n",
       "      <td>0.545952</td>\n",
       "      <td>NaN</td>\n",
       "      <td>NaN</td>\n",
       "      <td>NaN</td>\n",
       "      <td>NaN</td>\n",
       "      <td>NaN</td>\n",
       "      <td>NaN</td>\n",
       "      <td>NaN</td>\n",
       "      <td>NaN</td>\n",
       "      <td>NaN</td>\n",
       "    </tr>\n",
       "    <tr>\n",
       "      <th>8</th>\n",
       "      <td>MOEAD</td>\n",
       "      <td>3</td>\n",
       "      <td>0.512304</td>\n",
       "      <td>NaN</td>\n",
       "      <td>NaN</td>\n",
       "      <td>NaN</td>\n",
       "      <td>NaN</td>\n",
       "      <td>NaN</td>\n",
       "      <td>NaN</td>\n",
       "      <td>NaN</td>\n",
       "      <td>NaN</td>\n",
       "      <td>NaN</td>\n",
       "    </tr>\n",
       "  </tbody>\n",
       "</table>\n",
       "</div>"
      ],
      "text/plain": [
       "  Algorithm  Run        HV  ONVG  SPACING  SPREAD  MAXIMUM SPREAD  ONVGR  \\\n",
       "3     SMPSO    1  0.659228   NaN      NaN     NaN             NaN    NaN   \n",
       "4     SMPSO    2  0.750527   NaN      NaN     NaN             NaN    NaN   \n",
       "5     SMPSO    3  0.765932   NaN      NaN     NaN             NaN    NaN   \n",
       "6     MOEAD    1  0.527267   NaN      NaN     NaN             NaN    NaN   \n",
       "7     MOEAD    2  0.545952   NaN      NaN     NaN             NaN    NaN   \n",
       "8     MOEAD    3  0.512304   NaN      NaN     NaN             NaN    NaN   \n",
       "\n",
       "   Error Ratio  Max Pareto Front Error  GD  IGD  \n",
       "3          NaN                     NaN NaN  NaN  \n",
       "4          NaN                     NaN NaN  NaN  \n",
       "5          NaN                     NaN NaN  NaN  \n",
       "6          NaN                     NaN NaN  NaN  \n",
       "7          NaN                     NaN NaN  NaN  \n",
       "8          NaN                     NaN NaN  NaN  "
      ]
     },
     "execution_count": 225,
     "metadata": {},
     "output_type": "execute_result"
    }
   ],
   "source": [
    "indicators_df = pd.read_csv(\"final/outputs/indicators-HV-Max-20190413192210.csv\", sep=',')\n",
    "indicators_df[(indicators_df[\"Algorithm\"] == \"MOEAD\")|(indicators_df[\"Algorithm\"] == \"SMPSO\")]"
   ]
  },
  {
   "cell_type": "code",
   "execution_count": 226,
   "metadata": {},
   "outputs": [
    {
     "data": {
      "text/html": [
       "<div>\n",
       "<style scoped>\n",
       "    .dataframe tbody tr th:only-of-type {\n",
       "        vertical-align: middle;\n",
       "    }\n",
       "\n",
       "    .dataframe tbody tr th {\n",
       "        vertical-align: top;\n",
       "    }\n",
       "\n",
       "    .dataframe thead th {\n",
       "        text-align: right;\n",
       "    }\n",
       "</style>\n",
       "<table border=\"1\" class=\"dataframe\">\n",
       "  <thead>\n",
       "    <tr style=\"text-align: right;\">\n",
       "      <th></th>\n",
       "      <th>Run</th>\n",
       "      <th>HV</th>\n",
       "      <th>ONVG</th>\n",
       "      <th>SPACING</th>\n",
       "      <th>SPREAD</th>\n",
       "      <th>MAXIMUM SPREAD</th>\n",
       "      <th>ONVGR</th>\n",
       "      <th>Error Ratio</th>\n",
       "      <th>Max Pareto Front Error</th>\n",
       "      <th>GD</th>\n",
       "      <th>IGD</th>\n",
       "    </tr>\n",
       "  </thead>\n",
       "  <tbody>\n",
       "    <tr>\n",
       "      <th>count</th>\n",
       "      <td>57.000000</td>\n",
       "      <td>57.000000</td>\n",
       "      <td>0.0</td>\n",
       "      <td>0.0</td>\n",
       "      <td>0.0</td>\n",
       "      <td>0.0</td>\n",
       "      <td>0.0</td>\n",
       "      <td>0.0</td>\n",
       "      <td>0.0</td>\n",
       "      <td>0.0</td>\n",
       "      <td>0.0</td>\n",
       "    </tr>\n",
       "    <tr>\n",
       "      <th>mean</th>\n",
       "      <td>2.000000</td>\n",
       "      <td>0.560394</td>\n",
       "      <td>NaN</td>\n",
       "      <td>NaN</td>\n",
       "      <td>NaN</td>\n",
       "      <td>NaN</td>\n",
       "      <td>NaN</td>\n",
       "      <td>NaN</td>\n",
       "      <td>NaN</td>\n",
       "      <td>NaN</td>\n",
       "      <td>NaN</td>\n",
       "    </tr>\n",
       "    <tr>\n",
       "      <th>std</th>\n",
       "      <td>0.823754</td>\n",
       "      <td>0.074107</td>\n",
       "      <td>NaN</td>\n",
       "      <td>NaN</td>\n",
       "      <td>NaN</td>\n",
       "      <td>NaN</td>\n",
       "      <td>NaN</td>\n",
       "      <td>NaN</td>\n",
       "      <td>NaN</td>\n",
       "      <td>NaN</td>\n",
       "      <td>NaN</td>\n",
       "    </tr>\n",
       "    <tr>\n",
       "      <th>min</th>\n",
       "      <td>1.000000</td>\n",
       "      <td>0.399379</td>\n",
       "      <td>NaN</td>\n",
       "      <td>NaN</td>\n",
       "      <td>NaN</td>\n",
       "      <td>NaN</td>\n",
       "      <td>NaN</td>\n",
       "      <td>NaN</td>\n",
       "      <td>NaN</td>\n",
       "      <td>NaN</td>\n",
       "      <td>NaN</td>\n",
       "    </tr>\n",
       "    <tr>\n",
       "      <th>25%</th>\n",
       "      <td>1.000000</td>\n",
       "      <td>0.522168</td>\n",
       "      <td>NaN</td>\n",
       "      <td>NaN</td>\n",
       "      <td>NaN</td>\n",
       "      <td>NaN</td>\n",
       "      <td>NaN</td>\n",
       "      <td>NaN</td>\n",
       "      <td>NaN</td>\n",
       "      <td>NaN</td>\n",
       "      <td>NaN</td>\n",
       "    </tr>\n",
       "    <tr>\n",
       "      <th>50%</th>\n",
       "      <td>2.000000</td>\n",
       "      <td>0.542021</td>\n",
       "      <td>NaN</td>\n",
       "      <td>NaN</td>\n",
       "      <td>NaN</td>\n",
       "      <td>NaN</td>\n",
       "      <td>NaN</td>\n",
       "      <td>NaN</td>\n",
       "      <td>NaN</td>\n",
       "      <td>NaN</td>\n",
       "      <td>NaN</td>\n",
       "    </tr>\n",
       "    <tr>\n",
       "      <th>75%</th>\n",
       "      <td>3.000000</td>\n",
       "      <td>0.596769</td>\n",
       "      <td>NaN</td>\n",
       "      <td>NaN</td>\n",
       "      <td>NaN</td>\n",
       "      <td>NaN</td>\n",
       "      <td>NaN</td>\n",
       "      <td>NaN</td>\n",
       "      <td>NaN</td>\n",
       "      <td>NaN</td>\n",
       "      <td>NaN</td>\n",
       "    </tr>\n",
       "    <tr>\n",
       "      <th>max</th>\n",
       "      <td>3.000000</td>\n",
       "      <td>0.765932</td>\n",
       "      <td>NaN</td>\n",
       "      <td>NaN</td>\n",
       "      <td>NaN</td>\n",
       "      <td>NaN</td>\n",
       "      <td>NaN</td>\n",
       "      <td>NaN</td>\n",
       "      <td>NaN</td>\n",
       "      <td>NaN</td>\n",
       "      <td>NaN</td>\n",
       "    </tr>\n",
       "  </tbody>\n",
       "</table>\n",
       "</div>"
      ],
      "text/plain": [
       "             Run         HV  ONVG  SPACING  SPREAD  MAXIMUM SPREAD  ONVGR  \\\n",
       "count  57.000000  57.000000   0.0      0.0     0.0             0.0    0.0   \n",
       "mean    2.000000   0.560394   NaN      NaN     NaN             NaN    NaN   \n",
       "std     0.823754   0.074107   NaN      NaN     NaN             NaN    NaN   \n",
       "min     1.000000   0.399379   NaN      NaN     NaN             NaN    NaN   \n",
       "25%     1.000000   0.522168   NaN      NaN     NaN             NaN    NaN   \n",
       "50%     2.000000   0.542021   NaN      NaN     NaN             NaN    NaN   \n",
       "75%     3.000000   0.596769   NaN      NaN     NaN             NaN    NaN   \n",
       "max     3.000000   0.765932   NaN      NaN     NaN             NaN    NaN   \n",
       "\n",
       "       Error Ratio  Max Pareto Front Error   GD  IGD  \n",
       "count          0.0                     0.0  0.0  0.0  \n",
       "mean           NaN                     NaN  NaN  NaN  \n",
       "std            NaN                     NaN  NaN  NaN  \n",
       "min            NaN                     NaN  NaN  NaN  \n",
       "25%            NaN                     NaN  NaN  NaN  \n",
       "50%            NaN                     NaN  NaN  NaN  \n",
       "75%            NaN                     NaN  NaN  NaN  \n",
       "max            NaN                     NaN  NaN  NaN  "
      ]
     },
     "execution_count": 226,
     "metadata": {},
     "output_type": "execute_result"
    }
   ],
   "source": [
    "indicators_df.describe()"
   ]
  },
  {
   "cell_type": "code",
   "execution_count": 227,
   "metadata": {},
   "outputs": [],
   "source": [
    "# Create new DF with mean and std deviation\n",
    "indicators_mean = indicators_df.groupby([\"Algorithm\"]).mean()\n",
    "indicators_mean.sort_values(by=\"IGD\", inplace=False).to_csv(\"final/outputs/indicators-HV-Max-20190413192210_MEAN.csv\")# [[\"IGD\", \"HV\"]]"
   ]
  },
  {
   "cell_type": "code",
   "execution_count": 228,
   "metadata": {},
   "outputs": [],
   "source": [
    "indicators_std = indicators_df.groupby([\"Algorithm\"]).std()\n",
    "indicators_std.to_csv(\"final/outputs/indicators-HV-Max-20190413192210_STD.csv\")"
   ]
  },
  {
   "cell_type": "code",
   "execution_count": null,
   "metadata": {},
   "outputs": [],
   "source": [
    "# HV --> The larger, the better\n",
    "# ONVG --> The larger, the better (number of non-dominated solutions per run)"
   ]
  },
  {
   "cell_type": "markdown",
   "metadata": {},
   "source": [
    "## Combined PFs indicators"
   ]
  },
  {
   "cell_type": "code",
   "execution_count": null,
   "metadata": {},
   "outputs": [],
   "source": [
    "combined_indicators_df = pd.read_csv(\"final/outputs/indicators_3_runs_combined.csv\", sep=',')\n",
    "combined_indicators_df.sort_values(by=\"IGD\", inplace=False)[[\"IGD\", \"HV\", \"Algorithm\"]]"
   ]
  },
  {
   "cell_type": "code",
   "execution_count": null,
   "metadata": {},
   "outputs": [],
   "source": [
    "combined_indicators_df"
   ]
  },
  {
   "cell_type": "code",
   "execution_count": null,
   "metadata": {},
   "outputs": [],
   "source": []
  },
  {
   "cell_type": "markdown",
   "metadata": {},
   "source": [
    "# Test Click Events\n",
    "I believe this currently works on online settings, but I have tried in the offline scenario with no success."
   ]
  },
  {
   "cell_type": "code",
   "execution_count": null,
   "metadata": {},
   "outputs": [],
   "source": [
    "tpf_o1 = TPF[TPF['isDominated'] == 0][o1]\n",
    "tpf_o2 = TPF[TPF['isDominated'] == 0][o2]\n",
    "    \n",
    "tpf_vars = TPF[TPF['isDominated'] == 0][vars_cols]\n"
   ]
  },
  {
   "cell_type": "code",
   "execution_count": null,
   "metadata": {},
   "outputs": [],
   "source": [
    "# Add True PF\n",
    "tpf_trace = go.Scatter(\n",
    "    x = tpf_o1,\n",
    "    y = tpf_o2,\n",
    "    mode = 'lines+markers',\n",
    "    customdata = tpf_vars,\n",
    "    name = \"Combined Pareto Front\",\n",
    "    marker=dict(\n",
    "        size=6,\n",
    "        color = 'rgb(13, 188, 188)', #'rgb(16, 46, 51)',\n",
    "        opacity=1\n",
    "        #line = dict(\n",
    "        #     color = 'rgb(255, 255, 255)',\n",
    "        #      width = 0.25\n",
    "        # )\n",
    "        )\n",
    ")"
   ]
  },
  {
   "cell_type": "code",
   "execution_count": null,
   "metadata": {},
   "outputs": [],
   "source": [
    "f = go.FigureWidget([tpf_trace])"
   ]
  },
  {
   "cell_type": "code",
   "execution_count": null,
   "metadata": {},
   "outputs": [],
   "source": [
    "scatter = f.data[0]"
   ]
  },
  {
   "cell_type": "code",
   "execution_count": null,
   "metadata": {},
   "outputs": [],
   "source": [
    "f.layout.hovermode = 'closest'"
   ]
  },
  {
   "cell_type": "code",
   "execution_count": null,
   "metadata": {},
   "outputs": [],
   "source": [
    "# create our callback function\n",
    "def update_point(trace, points, selector):\n",
    "    print(points.point_inds)\n",
    "    \n",
    "    clickedPoints = [print(trace['customdata'][points.point_inds][:])\n",
    "    \n",
    "    #for i in points.point_inds:\n",
    "\n",
    "scatter.on_click(update_point)"
   ]
  },
  {
   "cell_type": "code",
   "execution_count": null,
   "metadata": {
    "scrolled": false
   },
   "outputs": [],
   "source": [
    "f"
   ]
  },
  {
   "cell_type": "code",
   "execution_count": null,
   "metadata": {},
   "outputs": [],
   "source": []
  },
  {
   "cell_type": "code",
   "execution_count": null,
   "metadata": {},
   "outputs": [],
   "source": []
  }
 ],
 "metadata": {
  "kernelspec": {
   "display_name": "Python 3",
   "language": "python",
   "name": "python3"
  },
  "language_info": {
   "codemirror_mode": {
    "name": "ipython",
    "version": 3
   },
   "file_extension": ".py",
   "mimetype": "text/x-python",
   "name": "python",
   "nbconvert_exporter": "python",
   "pygments_lexer": "ipython3",
   "version": "3.6.7"
  }
 },
 "nbformat": 4,
 "nbformat_minor": 2
}

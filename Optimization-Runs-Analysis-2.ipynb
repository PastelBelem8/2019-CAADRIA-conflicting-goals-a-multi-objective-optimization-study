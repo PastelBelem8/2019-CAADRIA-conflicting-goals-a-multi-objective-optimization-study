{
 "cells": [
  {
   "cell_type": "code",
   "execution_count": 1,
   "metadata": {},
   "outputs": [
    {
     "name": "stdout",
     "output_type": "stream",
     "text": [
      "Plotly version: 3.7.1\n"
     ]
    }
   ],
   "source": [
    "# Data processing\n",
    "import pandas as pd\n",
    "import numpy as np\n",
    "\n",
    "# Data visualization\n",
    "import matplotlib.pyplot as plt\n",
    "import seaborn\n",
    "%matplotlib inline\n",
    "\n",
    "import plotly\n",
    "import plotly.plotly as py\n",
    "import plotly.graph_objs as go\n",
    "print(\"Plotly version:\", plotly.__version__)\n",
    "\n",
    "# Credentials to visualize data online in Plotly\n",
    "plotly.tools.set_credentials_file(username='PastelBelem8', api_key='X8k1mloXRlB24rZm0qyq')"
   ]
  },
  {
   "cell_type": "code",
   "execution_count": 2,
   "metadata": {},
   "outputs": [],
   "source": [
    "# Read data from a CSV file and returns a Dataframe\n",
    "def get_data_from_csv(filename, base_folder='final/outputs/', sep=',', header='infer'):\n",
    "    filepath = base_folder + filename\n",
    "    return pd.read_csv(filepath, sep, header=header)\n",
    "\n",
    "def write_data_to_csv(data, filename, base_folder='final/outputs/'):\n",
    "    data.to_csv(base_folder + filename)"
   ]
  },
  {
   "cell_type": "code",
   "execution_count": 3,
   "metadata": {},
   "outputs": [
    {
     "data": {
      "text/html": [
       "<div>\n",
       "<style scoped>\n",
       "    .dataframe tbody tr th:only-of-type {\n",
       "        vertical-align: middle;\n",
       "    }\n",
       "\n",
       "    .dataframe tbody tr th {\n",
       "        vertical-align: top;\n",
       "    }\n",
       "\n",
       "    .dataframe thead th {\n",
       "        text-align: right;\n",
       "    }\n",
       "</style>\n",
       "<table border=\"1\" class=\"dataframe\">\n",
       "  <thead>\n",
       "    <tr style=\"text-align: right;\">\n",
       "      <th></th>\n",
       "      <th>0</th>\n",
       "      <th>1</th>\n",
       "      <th>2</th>\n",
       "      <th>3</th>\n",
       "      <th>4</th>\n",
       "      <th>5</th>\n",
       "      <th>6</th>\n",
       "      <th>7</th>\n",
       "      <th>8</th>\n",
       "      <th>9</th>\n",
       "      <th>10</th>\n",
       "    </tr>\n",
       "  </thead>\n",
       "  <tbody>\n",
       "    <tr>\n",
       "      <th>0</th>\n",
       "      <td>27.900</td>\n",
       "      <td>27.519</td>\n",
       "      <td>0.244</td>\n",
       "      <td>0.665985</td>\n",
       "      <td>21.417838</td>\n",
       "      <td>-0.237790</td>\n",
       "      <td>31.026032</td>\n",
       "      <td>-1.327788</td>\n",
       "      <td>0.261611</td>\n",
       "      <td>1.307729</td>\n",
       "      <td>72.461375</td>\n",
       "    </tr>\n",
       "    <tr>\n",
       "      <th>1</th>\n",
       "      <td>9.435</td>\n",
       "      <td>9.435</td>\n",
       "      <td>0.000</td>\n",
       "      <td>0.310227</td>\n",
       "      <td>10.939239</td>\n",
       "      <td>-0.592896</td>\n",
       "      <td>10.580658</td>\n",
       "      <td>-0.811962</td>\n",
       "      <td>3.633277</td>\n",
       "      <td>1.292872</td>\n",
       "      <td>28.926759</td>\n",
       "    </tr>\n",
       "    <tr>\n",
       "      <th>2</th>\n",
       "      <td>10.350</td>\n",
       "      <td>10.350</td>\n",
       "      <td>0.000</td>\n",
       "      <td>0.769788</td>\n",
       "      <td>7.761587</td>\n",
       "      <td>-1.183812</td>\n",
       "      <td>19.867838</td>\n",
       "      <td>-1.424898</td>\n",
       "      <td>9.505861</td>\n",
       "      <td>1.109352</td>\n",
       "      <td>49.047421</td>\n",
       "    </tr>\n",
       "    <tr>\n",
       "      <th>3</th>\n",
       "      <td>9.483</td>\n",
       "      <td>9.483</td>\n",
       "      <td>0.000</td>\n",
       "      <td>1.536313</td>\n",
       "      <td>30.916909</td>\n",
       "      <td>-0.696372</td>\n",
       "      <td>14.878207</td>\n",
       "      <td>-1.283161</td>\n",
       "      <td>14.654795</td>\n",
       "      <td>0.969101</td>\n",
       "      <td>55.451661</td>\n",
       "    </tr>\n",
       "    <tr>\n",
       "      <th>4</th>\n",
       "      <td>10.180</td>\n",
       "      <td>10.180</td>\n",
       "      <td>0.000</td>\n",
       "      <td>1.144987</td>\n",
       "      <td>6.288066</td>\n",
       "      <td>0.206822</td>\n",
       "      <td>25.155869</td>\n",
       "      <td>0.491872</td>\n",
       "      <td>9.079051</td>\n",
       "      <td>1.349896</td>\n",
       "      <td>44.244605</td>\n",
       "    </tr>\n",
       "  </tbody>\n",
       "</table>\n",
       "</div>"
      ],
      "text/plain": [
       "       0       1      2         3          4         5          6         7   \\\n",
       "0  27.900  27.519  0.244  0.665985  21.417838 -0.237790  31.026032 -1.327788   \n",
       "1   9.435   9.435  0.000  0.310227  10.939239 -0.592896  10.580658 -0.811962   \n",
       "2  10.350  10.350  0.000  0.769788   7.761587 -1.183812  19.867838 -1.424898   \n",
       "3   9.483   9.483  0.000  1.536313  30.916909 -0.696372  14.878207 -1.283161   \n",
       "4  10.180  10.180  0.000  1.144987   6.288066  0.206822  25.155869  0.491872   \n",
       "\n",
       "          8         9          10  \n",
       "0   0.261611  1.307729  72.461375  \n",
       "1   3.633277  1.292872  28.926759  \n",
       "2   9.505861  1.109352  49.047421  \n",
       "3  14.654795  0.969101  55.451661  \n",
       "4   9.079051  1.349896  44.244605  "
      ]
     },
     "execution_count": 3,
     "metadata": {},
     "output_type": "execute_result"
    }
   ],
   "source": [
    "sols_file = 'all_solutions_20190310.csv'\n",
    "# Sanity check test 1\n",
    "get_data_from_csv(sols_file, header=None).head()"
   ]
  },
  {
   "cell_type": "code",
   "execution_count": 4,
   "metadata": {},
   "outputs": [],
   "source": [
    "# Sanity check test 2\n",
    "write_data_to_csv(get_data_from_csv(sols_file, header=None).head(), 'test2.csv', base_folder='./')"
   ]
  },
  {
   "cell_type": "markdown",
   "metadata": {},
   "source": [
    "# Problem\n",
    "\n",
    "Architectural design optimization problem that aims to optimize the structural capability of an arc-shaped space frame and its elegance/interestingness. To achieve that we define an objective function as being the maximum displacement of the space frame, which we ought to minimize, and an ad-hoc measure of its irregularity which we are trying to minimize to produce more elegant solutions. \n",
    "\n",
    "Here is a picture of some of the obtained solutions in the Pareto Front of previous runs. "
   ]
  },
  {
   "cell_type": "markdown",
   "metadata": {},
   "source": [
    "![Three non dominated solutions of the addressed optimization problem](\"truss-kat-dark.png\")"
   ]
  },
  {
   "cell_type": "markdown",
   "metadata": {},
   "source": [
    "## Define the constants of the problem\n",
    "\n",
    "\n",
    "- **data**: structure holding the data from the file to be analysed\n",
    "- **time_cols**: the columns in the __data__ that enclose the time took for the evaluation of each data record\n",
    "- **vars_cols**: the columns in the __data__ that enclose the values of the variables\n",
    "- **objs_cols**: the columns in the __data__ that enclose the values of the objectives"
   ]
  },
  {
   "cell_type": "code",
   "execution_count": 12,
   "metadata": {},
   "outputs": [],
   "source": [
    "data = get_data_from_csv(sols_file, header=None)\n",
    "# Optimization Results Files Header\n",
    "time_cols = np.arange(0, 3)\n",
    "vars_cols = np.arange(3, 9)\n",
    "objs_cols = np.arange(9, 11)"
   ]
  },
  {
   "cell_type": "code",
   "execution_count": 13,
   "metadata": {},
   "outputs": [],
   "source": [
    "data_columns = data.columns\n",
    "if not isinstance(data_columns, pd.Int64Index):\n",
    "    time_cols = data_columns[time_cols]\n",
    "    vars_cols = data_columns[vars_cols]\n",
    "    objs_cols = data_columns[objs_cols]"
   ]
  },
  {
   "cell_type": "markdown",
   "metadata": {},
   "source": [
    "### 1. Data Analysis Overview \n",
    "\n",
    "Firstly, we observe the quality of the information collected from the file in order to verify that the data was correctly processed. "
   ]
  },
  {
   "cell_type": "code",
   "execution_count": 14,
   "metadata": {},
   "outputs": [
    {
     "name": "stdout",
     "output_type": "stream",
     "text": [
      "<class 'pandas.core.frame.DataFrame'>\n",
      "RangeIndex: 24514 entries, 0 to 24513\n",
      "Data columns (total 11 columns):\n",
      "0     24514 non-null float64\n",
      "1     24514 non-null float64\n",
      "2     24514 non-null float64\n",
      "3     24514 non-null float64\n",
      "4     24514 non-null float64\n",
      "5     24514 non-null float64\n",
      "6     24514 non-null float64\n",
      "7     24514 non-null float64\n",
      "8     24514 non-null float64\n",
      "9     24514 non-null float64\n",
      "10    24514 non-null float64\n",
      "dtypes: float64(11)\n",
      "memory usage: 2.1 MB\n"
     ]
    }
   ],
   "source": [
    "data.info() # We have a total of 5589 records"
   ]
  },
  {
   "cell_type": "markdown",
   "metadata": {},
   "source": [
    "Secondly, we observe the description of the overall data. Note the minimum and maximum ranges of the objective values. "
   ]
  },
  {
   "cell_type": "code",
   "execution_count": 15,
   "metadata": {
    "scrolled": true
   },
   "outputs": [
    {
     "data": {
      "text/html": [
       "<div>\n",
       "<style scoped>\n",
       "    .dataframe tbody tr th:only-of-type {\n",
       "        vertical-align: middle;\n",
       "    }\n",
       "\n",
       "    .dataframe tbody tr th {\n",
       "        vertical-align: top;\n",
       "    }\n",
       "\n",
       "    .dataframe thead th {\n",
       "        text-align: right;\n",
       "    }\n",
       "</style>\n",
       "<table border=\"1\" class=\"dataframe\">\n",
       "  <thead>\n",
       "    <tr style=\"text-align: right;\">\n",
       "      <th></th>\n",
       "      <th>3</th>\n",
       "      <th>4</th>\n",
       "      <th>5</th>\n",
       "      <th>6</th>\n",
       "      <th>7</th>\n",
       "      <th>8</th>\n",
       "      <th>9</th>\n",
       "      <th>10</th>\n",
       "    </tr>\n",
       "  </thead>\n",
       "  <tbody>\n",
       "    <tr>\n",
       "      <th>count</th>\n",
       "      <td>24514.000000</td>\n",
       "      <td>24514.000000</td>\n",
       "      <td>24514.000000</td>\n",
       "      <td>24514.000000</td>\n",
       "      <td>24514.000000</td>\n",
       "      <td>24514.000000</td>\n",
       "      <td>24514.000000</td>\n",
       "      <td>24514.000000</td>\n",
       "    </tr>\n",
       "    <tr>\n",
       "      <th>mean</th>\n",
       "      <td>0.053193</td>\n",
       "      <td>14.954274</td>\n",
       "      <td>0.025563</td>\n",
       "      <td>16.800471</td>\n",
       "      <td>0.404427</td>\n",
       "      <td>16.800770</td>\n",
       "      <td>1.150966</td>\n",
       "      <td>39.810990</td>\n",
       "    </tr>\n",
       "    <tr>\n",
       "      <th>std</th>\n",
       "      <td>1.169126</td>\n",
       "      <td>8.752282</td>\n",
       "      <td>1.093927</td>\n",
       "      <td>8.129443</td>\n",
       "      <td>1.055486</td>\n",
       "      <td>8.416493</td>\n",
       "      <td>0.155919</td>\n",
       "      <td>17.767717</td>\n",
       "    </tr>\n",
       "    <tr>\n",
       "      <th>min</th>\n",
       "      <td>-1.570796</td>\n",
       "      <td>0.000000</td>\n",
       "      <td>-1.570796</td>\n",
       "      <td>0.000000</td>\n",
       "      <td>-1.570796</td>\n",
       "      <td>0.000000</td>\n",
       "      <td>0.543703</td>\n",
       "      <td>0.000000</td>\n",
       "    </tr>\n",
       "    <tr>\n",
       "      <th>25%</th>\n",
       "      <td>-1.247604</td>\n",
       "      <td>6.970110</td>\n",
       "      <td>-1.062693</td>\n",
       "      <td>10.920053</td>\n",
       "      <td>-0.558991</td>\n",
       "      <td>9.871483</td>\n",
       "      <td>1.056924</td>\n",
       "      <td>26.964389</td>\n",
       "    </tr>\n",
       "    <tr>\n",
       "      <th>50%</th>\n",
       "      <td>0.116491</td>\n",
       "      <td>14.719265</td>\n",
       "      <td>0.000000</td>\n",
       "      <td>17.077492</td>\n",
       "      <td>0.761007</td>\n",
       "      <td>17.397337</td>\n",
       "      <td>1.156206</td>\n",
       "      <td>40.238719</td>\n",
       "    </tr>\n",
       "    <tr>\n",
       "      <th>75%</th>\n",
       "      <td>1.277199</td>\n",
       "      <td>22.563129</td>\n",
       "      <td>1.152847</td>\n",
       "      <td>23.120909</td>\n",
       "      <td>1.395803</td>\n",
       "      <td>23.930227</td>\n",
       "      <td>1.253621</td>\n",
       "      <td>53.143111</td>\n",
       "    </tr>\n",
       "    <tr>\n",
       "      <th>max</th>\n",
       "      <td>1.570796</td>\n",
       "      <td>31.415927</td>\n",
       "      <td>1.570796</td>\n",
       "      <td>31.415927</td>\n",
       "      <td>1.570796</td>\n",
       "      <td>31.415927</td>\n",
       "      <td>2.001658</td>\n",
       "      <td>88.900953</td>\n",
       "    </tr>\n",
       "  </tbody>\n",
       "</table>\n",
       "</div>"
      ],
      "text/plain": [
       "                 3             4             5             6             7   \\\n",
       "count  24514.000000  24514.000000  24514.000000  24514.000000  24514.000000   \n",
       "mean       0.053193     14.954274      0.025563     16.800471      0.404427   \n",
       "std        1.169126      8.752282      1.093927      8.129443      1.055486   \n",
       "min       -1.570796      0.000000     -1.570796      0.000000     -1.570796   \n",
       "25%       -1.247604      6.970110     -1.062693     10.920053     -0.558991   \n",
       "50%        0.116491     14.719265      0.000000     17.077492      0.761007   \n",
       "75%        1.277199     22.563129      1.152847     23.120909      1.395803   \n",
       "max        1.570796     31.415927      1.570796     31.415927      1.570796   \n",
       "\n",
       "                 8             9             10  \n",
       "count  24514.000000  24514.000000  24514.000000  \n",
       "mean      16.800770      1.150966     39.810990  \n",
       "std        8.416493      0.155919     17.767717  \n",
       "min        0.000000      0.543703      0.000000  \n",
       "25%        9.871483      1.056924     26.964389  \n",
       "50%       17.397337      1.156206     40.238719  \n",
       "75%       23.930227      1.253621     53.143111  \n",
       "max       31.415927      2.001658     88.900953  "
      ]
     },
     "execution_count": 15,
     "metadata": {},
     "output_type": "execute_result"
    }
   ],
   "source": [
    "data.drop(labels=time_cols, axis=1, inplace=True)\n",
    "data.describe()"
   ]
  },
  {
   "cell_type": "code",
   "execution_count": 16,
   "metadata": {},
   "outputs": [],
   "source": [
    "data.drop_duplicates(inplace=True)"
   ]
  },
  {
   "cell_type": "code",
   "execution_count": 17,
   "metadata": {},
   "outputs": [
    {
     "data": {
      "text/html": [
       "<div>\n",
       "<style scoped>\n",
       "    .dataframe tbody tr th:only-of-type {\n",
       "        vertical-align: middle;\n",
       "    }\n",
       "\n",
       "    .dataframe tbody tr th {\n",
       "        vertical-align: top;\n",
       "    }\n",
       "\n",
       "    .dataframe thead th {\n",
       "        text-align: right;\n",
       "    }\n",
       "</style>\n",
       "<table border=\"1\" class=\"dataframe\">\n",
       "  <thead>\n",
       "    <tr style=\"text-align: right;\">\n",
       "      <th></th>\n",
       "      <th>3</th>\n",
       "      <th>4</th>\n",
       "      <th>5</th>\n",
       "      <th>6</th>\n",
       "      <th>7</th>\n",
       "      <th>8</th>\n",
       "      <th>9</th>\n",
       "      <th>10</th>\n",
       "    </tr>\n",
       "  </thead>\n",
       "  <tbody>\n",
       "    <tr>\n",
       "      <th>count</th>\n",
       "      <td>18838.000000</td>\n",
       "      <td>18838.000000</td>\n",
       "      <td>18838.000000</td>\n",
       "      <td>18838.000000</td>\n",
       "      <td>18838.000000</td>\n",
       "      <td>18838.000000</td>\n",
       "      <td>18838.000000</td>\n",
       "      <td>18838.000000</td>\n",
       "    </tr>\n",
       "    <tr>\n",
       "      <th>mean</th>\n",
       "      <td>0.118915</td>\n",
       "      <td>15.470296</td>\n",
       "      <td>0.111515</td>\n",
       "      <td>16.868432</td>\n",
       "      <td>0.287540</td>\n",
       "      <td>16.494583</td>\n",
       "      <td>1.161435</td>\n",
       "      <td>38.856503</td>\n",
       "    </tr>\n",
       "    <tr>\n",
       "      <th>std</th>\n",
       "      <td>1.136210</td>\n",
       "      <td>9.014712</td>\n",
       "      <td>1.059554</td>\n",
       "      <td>8.483679</td>\n",
       "      <td>1.055366</td>\n",
       "      <td>8.547042</td>\n",
       "      <td>0.164060</td>\n",
       "      <td>18.212667</td>\n",
       "    </tr>\n",
       "    <tr>\n",
       "      <th>min</th>\n",
       "      <td>-1.570796</td>\n",
       "      <td>0.000000</td>\n",
       "      <td>-1.570796</td>\n",
       "      <td>0.000000</td>\n",
       "      <td>-1.570796</td>\n",
       "      <td>0.000000</td>\n",
       "      <td>0.543703</td>\n",
       "      <td>0.000000</td>\n",
       "    </tr>\n",
       "    <tr>\n",
       "      <th>25%</th>\n",
       "      <td>-1.080826</td>\n",
       "      <td>7.171384</td>\n",
       "      <td>-0.897941</td>\n",
       "      <td>10.659445</td>\n",
       "      <td>-0.685219</td>\n",
       "      <td>9.628061</td>\n",
       "      <td>1.076982</td>\n",
       "      <td>25.794844</td>\n",
       "    </tr>\n",
       "    <tr>\n",
       "      <th>50%</th>\n",
       "      <td>0.242658</td>\n",
       "      <td>15.506316</td>\n",
       "      <td>0.119617</td>\n",
       "      <td>17.077492</td>\n",
       "      <td>0.548548</td>\n",
       "      <td>16.949200</td>\n",
       "      <td>1.173865</td>\n",
       "      <td>39.407851</td>\n",
       "    </tr>\n",
       "    <tr>\n",
       "      <th>75%</th>\n",
       "      <td>1.280463</td>\n",
       "      <td>23.210043</td>\n",
       "      <td>1.166362</td>\n",
       "      <td>23.727462</td>\n",
       "      <td>1.335933</td>\n",
       "      <td>22.924835</td>\n",
       "      <td>1.268917</td>\n",
       "      <td>51.351283</td>\n",
       "    </tr>\n",
       "    <tr>\n",
       "      <th>max</th>\n",
       "      <td>1.570796</td>\n",
       "      <td>31.415927</td>\n",
       "      <td>1.570796</td>\n",
       "      <td>31.415927</td>\n",
       "      <td>1.570796</td>\n",
       "      <td>31.415927</td>\n",
       "      <td>2.001658</td>\n",
       "      <td>88.900953</td>\n",
       "    </tr>\n",
       "  </tbody>\n",
       "</table>\n",
       "</div>"
      ],
      "text/plain": [
       "                 3             4             5             6             7   \\\n",
       "count  18838.000000  18838.000000  18838.000000  18838.000000  18838.000000   \n",
       "mean       0.118915     15.470296      0.111515     16.868432      0.287540   \n",
       "std        1.136210      9.014712      1.059554      8.483679      1.055366   \n",
       "min       -1.570796      0.000000     -1.570796      0.000000     -1.570796   \n",
       "25%       -1.080826      7.171384     -0.897941     10.659445     -0.685219   \n",
       "50%        0.242658     15.506316      0.119617     17.077492      0.548548   \n",
       "75%        1.280463     23.210043      1.166362     23.727462      1.335933   \n",
       "max        1.570796     31.415927      1.570796     31.415927      1.570796   \n",
       "\n",
       "                 8             9             10  \n",
       "count  18838.000000  18838.000000  18838.000000  \n",
       "mean      16.494583      1.161435     38.856503  \n",
       "std        8.547042      0.164060     18.212667  \n",
       "min        0.000000      0.543703      0.000000  \n",
       "25%        9.628061      1.076982     25.794844  \n",
       "50%       16.949200      1.173865     39.407851  \n",
       "75%       22.924835      1.268917     51.351283  \n",
       "max       31.415927      2.001658     88.900953  "
      ]
     },
     "execution_count": 17,
     "metadata": {},
     "output_type": "execute_result"
    }
   ],
   "source": [
    "data.describe()"
   ]
  },
  {
   "cell_type": "code",
   "execution_count": 18,
   "metadata": {},
   "outputs": [
    {
     "name": "stdout",
     "output_type": "stream",
     "text": [
      "Objective 9 : \n",
      "\tMin val: 0.54370260494 \tMax val: 2.00165774896 \tRange val: 1.45795514402\n",
      "Objective 10 : \n",
      "\tMin val: 0.0 \tMax val: 88.9009529384 \tRange val: 88.9009529384\n"
     ]
    }
   ],
   "source": [
    "for o in objs_cols:\n",
    "    o_data = data[o].describe()\n",
    "    o_min, o_max  = o_data.loc['min'], o_data.loc['max']\n",
    "    \n",
    "    print(\"Objective\", o, \": \\n\\tMin val:\", str(o_min), \"\\tMax val:\", str(o_max), \"\\tRange val:\", str(o_max-o_min))"
   ]
  },
  {
   "cell_type": "markdown",
   "metadata": {},
   "source": [
    "The scales of each objective are considerably different. Also, the second objective seems to have a huge skew towards higher values, let's plot the distribution of each objective separately."
   ]
  },
  {
   "cell_type": "code",
   "execution_count": 19,
   "metadata": {},
   "outputs": [],
   "source": [
    "# Because we want to create multiple violins plotting the distribution of each objective, we must create a trace for each objective\n",
    "def create_violin_plots(data=data, cols=objs_cols):\n",
    "    traces = []\n",
    "    for c in cols:\n",
    "        trace = {\n",
    "                \"type\": 'violin',\n",
    "                # The identification of the Objective (to place in X axis)\n",
    "                \"x\": c,\n",
    "                # The actual values of the Objective (to compte the distribution)\n",
    "                \"y\": data[c],\n",
    "                # The name to put in the legen of the plot\n",
    "                \"name\": \"Column_\" + str(c),\n",
    "                # Plot a box plot (making visible the min, 25%, median (50%), 75%, max)\n",
    "                \"box\": {\n",
    "                    \"visible\": True\n",
    "                },\n",
    "                # Mean\n",
    "                \"meanline\": {\n",
    "                    \"visible\": True\n",
    "                }\n",
    "            }\n",
    "        traces.append(trace)\n",
    "\n",
    "\n",
    "    # Create the Figure Object\n",
    "    fig = {\n",
    "        # The data to be presented in the plot\n",
    "        \"data\": traces,\n",
    "        \"layout\" : {\n",
    "            \"title\": \"\",\n",
    "            \"yaxis\": {\n",
    "                \"zeroline\": False,\n",
    "            }\n",
    "        }\n",
    "    }\n",
    "\n",
    "    return py.iplot(fig, filename='violin-multiple', validate = False)\n"
   ]
  },
  {
   "cell_type": "code",
   "execution_count": 20,
   "metadata": {},
   "outputs": [
    {
     "data": {
      "text/html": [
       "<iframe id=\"igraph\" scrolling=\"no\" style=\"border:none;\" seamless=\"seamless\" src=\"https://plot.ly/~PastelBelem8/57.embed\" height=\"525px\" width=\"100%\"></iframe>"
      ],
      "text/plain": [
       "<plotly.tools.PlotlyDisplay object>"
      ]
     },
     "execution_count": 20,
     "metadata": {},
     "output_type": "execute_result"
    }
   ],
   "source": [
    "create_violin_plots()"
   ]
  },
  {
   "cell_type": "markdown",
   "metadata": {},
   "source": [
    "Well, this does not provide a very good overview of the results. This is the consequence of the disparity in the scales. Let us scale both objectives. To achieve this, one could use the let us use the [MinMaxScaler](https://scikit-learn.org/stable/modules/generated/sklearn.preprocessing.MinMaxScaler.html) from the Scikit Learn library, but Pandas enables the creation of a scaling function that will be applied to every element independently. Therefore, we only need to create the the function that given a max and min value will create the appropriate value. Fortunately, we have computed the max, min and range values before, so we can reuse that logic.\n",
    "\n",
    "```python3\n",
    "from sklearn.preprocessing import MinMaxScaler\n",
    "# Example\n",
    "scaler = MinMaxScaler()\n",
    "scaler.fit(data[9].values.reshape(-1, 1))\n",
    "```"
   ]
  },
  {
   "cell_type": "code",
   "execution_count": 21,
   "metadata": {},
   "outputs": [],
   "source": [
    "def scale(x, mn, mx):\n",
    "    return (x - mn) / (mx-mn)\n",
    "\n",
    "def scale_data(data, cols=objs_cols):\n",
    "    scaled_data = data.copy()\n",
    "    \n",
    "    for c in cols:\n",
    "        c_data = data[c].describe()\n",
    "        c_min, c_max  = c_data.loc['min'], c_data.loc['max']\n",
    "        \n",
    "        scaled_data[c] = scaled_data[c].apply(lambda v: scale(v, c_min, c_max))\n",
    "    return scaled_data"
   ]
  },
  {
   "cell_type": "code",
   "execution_count": 22,
   "metadata": {},
   "outputs": [],
   "source": [
    "scaled_data = scale_data(data, cols=np.arange(3, 11))"
   ]
  },
  {
   "cell_type": "markdown",
   "metadata": {},
   "source": [
    "Let's try again, to plot their distribution!"
   ]
  },
  {
   "cell_type": "code",
   "execution_count": 23,
   "metadata": {},
   "outputs": [
    {
     "data": {
      "text/html": [
       "<iframe id=\"igraph\" scrolling=\"no\" style=\"border:none;\" seamless=\"seamless\" src=\"https://plot.ly/~PastelBelem8/57.embed\" height=\"525px\" width=\"100%\"></iframe>"
      ],
      "text/plain": [
       "<plotly.tools.PlotlyDisplay object>"
      ]
     },
     "execution_count": 23,
     "metadata": {},
     "output_type": "execute_result"
    }
   ],
   "source": [
    "create_violin_plots(scaled_data)"
   ]
  },
  {
   "cell_type": "markdown",
   "metadata": {},
   "source": [
    "This gave no information, and if we plot the unscaled versions of these objectives the distribution will be the same...  What about the **distribution of the variables**?\n",
    "\n",
    "- the **odd** variables represent the **angles of the attractors** and take values in the range of [-pi/2, pi/2]\n",
    "- the **even** variables represent the **position of the attractors** in the space-frame and take values in the range of [0, 10pi]"
   ]
  },
  {
   "cell_type": "code",
   "execution_count": 24,
   "metadata": {},
   "outputs": [
    {
     "data": {
      "text/html": [
       "<iframe id=\"igraph\" scrolling=\"no\" style=\"border:none;\" seamless=\"seamless\" src=\"https://plot.ly/~PastelBelem8/57.embed\" height=\"525px\" width=\"100%\"></iframe>"
      ],
      "text/plain": [
       "<plotly.tools.PlotlyDisplay object>"
      ]
     },
     "execution_count": 24,
     "metadata": {},
     "output_type": "execute_result"
    }
   ],
   "source": [
    "# Plot the distribution of the angles values\n",
    "create_violin_plots(cols=vars_cols[0::2])"
   ]
  },
  {
   "cell_type": "markdown",
   "metadata": {},
   "source": [
    "We can observe that there's an overall decrease in the values explored for each angle. This can be due to the fact that only Evolutionary Algorithms and Particle Swarm algorithms are being used. But one should **generate 225** design solutions (through different **sampling methods**, to try and obtain a more **uniform** distribution, e.g., Latin Hypercube Sampling, K-factorial?) "
   ]
  },
  {
   "cell_type": "code",
   "execution_count": 25,
   "metadata": {},
   "outputs": [
    {
     "data": {
      "text/html": [
       "<iframe id=\"igraph\" scrolling=\"no\" style=\"border:none;\" seamless=\"seamless\" src=\"https://plot.ly/~PastelBelem8/57.embed\" height=\"525px\" width=\"100%\"></iframe>"
      ],
      "text/plain": [
       "<plotly.tools.PlotlyDisplay object>"
      ]
     },
     "execution_count": 25,
     "metadata": {},
     "output_type": "execute_result"
    }
   ],
   "source": [
    "# Plot the distribution of the position values\n",
    "create_violin_plots(cols=vars_cols[1::2])"
   ]
  },
  {
   "cell_type": "markdown",
   "metadata": {},
   "source": [
    "Regarding the position of the attractors, we can also see that there's a generalized difference in the values. It would be interesting to actually plot the points next to the violins, to validate the existence of overlapping solutions (this is capping the outliers)"
   ]
  },
  {
   "cell_type": "code",
   "execution_count": 26,
   "metadata": {},
   "outputs": [],
   "source": [
    "# Because we want to create multiple box plotting the distribution of each objective, we must create a trace for each objective\n",
    "def create_box_plot(data=data, cols=objs_cols):\n",
    "    colors = ['hsl('+str(h)+',50%'+',50%)' for h in np.linspace(0, 360, cols.shape[0]*2)]\n",
    "    traces = []\n",
    "    for i, c in enumerate(cols):\n",
    "        trace = {\n",
    "                \"type\": 'box',\n",
    "                # The actual values of the Objective (to compte the distribution)\n",
    "                \"y\": data[c],\n",
    "                # The name to put in the legen of the plot\n",
    "                \"name\": \"Column_\" + str(c),\n",
    "                \"boxpoints\": 'all',\n",
    "                \"jitter\": 0.3,\n",
    "                \"pointpos\": -1.8, \n",
    "                \"boxmean\": 'sd',\n",
    "                \"color\": colors[2*i],\n",
    "                # \"boxmean\": True,\n",
    "                \"marker\": {\n",
    "                    \"color\": colors[2*i],\n",
    "                    \"outliercolor\": colors[2*i+1],\n",
    "                    \"line\": {\n",
    "                        \"outliercolor\": colors[2*i+1],\n",
    "                        \"outlierwidth\": 2} \n",
    "                },\n",
    "            \n",
    "                \"whiskerwidth\": 0.2,\n",
    "        }\n",
    "        traces.append(trace)\n",
    "\n",
    "\n",
    "    # Create the Figure Object\n",
    "    fig = {\n",
    "        # The data to be presented in the plot\n",
    "        \"data\": traces,\n",
    "        \"layout\" : {\n",
    "            \"title\": \"\",\n",
    "            \"yaxis\": {\n",
    "                \"zeroline\": False,\n",
    "            }\n",
    "        }\n",
    "    }\n",
    "\n",
    "    return py.iplot(fig, filename='box-multiple', validate = False)\n"
   ]
  },
  {
   "cell_type": "code",
   "execution_count": 27,
   "metadata": {},
   "outputs": [
    {
     "name": "stdout",
     "output_type": "stream",
     "text": [
      "The draw time for this plot will be slow for clients without much RAM.\n"
     ]
    },
    {
     "name": "stderr",
     "output_type": "stream",
     "text": [
      "C:\\Users\\catar\\Programs\\Anaconda3\\lib\\site-packages\\plotly\\api\\v1\\clientresp.py:40: UserWarning:\n",
      "\n",
      "Estimated Draw Time Slow\n",
      "\n"
     ]
    },
    {
     "data": {
      "text/html": [
       "<iframe id=\"igraph\" scrolling=\"no\" style=\"border:none;\" seamless=\"seamless\" src=\"https://plot.ly/~PastelBelem8/59.embed\" height=\"525px\" width=\"100%\"></iframe>"
      ],
      "text/plain": [
       "<plotly.tools.PlotlyDisplay object>"
      ]
     },
     "execution_count": 27,
     "metadata": {},
     "output_type": "execute_result"
    }
   ],
   "source": [
    "create_box_plot()"
   ]
  },
  {
   "cell_type": "code",
   "execution_count": 28,
   "metadata": {},
   "outputs": [
    {
     "name": "stdout",
     "output_type": "stream",
     "text": [
      "The draw time for this plot will be slow for all clients.\n"
     ]
    },
    {
     "name": "stderr",
     "output_type": "stream",
     "text": [
      "C:\\Users\\catar\\Programs\\Anaconda3\\lib\\site-packages\\plotly\\api\\v1\\clientresp.py:40: UserWarning:\n",
      "\n",
      "Estimated Draw Time Too Long\n",
      "\n"
     ]
    },
    {
     "data": {
      "text/html": [
       "<iframe id=\"igraph\" scrolling=\"no\" style=\"border:none;\" seamless=\"seamless\" src=\"https://plot.ly/~PastelBelem8/59.embed\" height=\"525px\" width=\"100%\"></iframe>"
      ],
      "text/plain": [
       "<plotly.tools.PlotlyDisplay object>"
      ]
     },
     "execution_count": 28,
     "metadata": {},
     "output_type": "execute_result"
    }
   ],
   "source": [
    "create_box_plot(scaled_data, cols=vars_cols)"
   ]
  },
  {
   "cell_type": "code",
   "execution_count": 29,
   "metadata": {
    "scrolled": true
   },
   "outputs": [
    {
     "name": "stdout",
     "output_type": "stream",
     "text": [
      "The draw time for this plot will be slow for all clients.\n"
     ]
    },
    {
     "name": "stderr",
     "output_type": "stream",
     "text": [
      "C:\\Users\\catar\\Programs\\Anaconda3\\lib\\site-packages\\plotly\\api\\v1\\clientresp.py:40: UserWarning:\n",
      "\n",
      "Estimated Draw Time Too Long\n",
      "\n"
     ]
    },
    {
     "data": {
      "text/html": [
       "<iframe id=\"igraph\" scrolling=\"no\" style=\"border:none;\" seamless=\"seamless\" src=\"https://plot.ly/~PastelBelem8/59.embed\" height=\"525px\" width=\"100%\"></iframe>"
      ],
      "text/plain": [
       "<plotly.tools.PlotlyDisplay object>"
      ]
     },
     "execution_count": 29,
     "metadata": {},
     "output_type": "execute_result"
    }
   ],
   "source": [
    "create_box_plot(scaled_data, cols=np.arange(3, 11))"
   ]
  },
  {
   "cell_type": "markdown",
   "metadata": {},
   "source": [
    "## 2. Pareto Front Analysis\n",
    "\n",
    "Let us examine the objective space distribution. First, we want an overview of the spread of all the points... Just to get a picture"
   ]
  },
  {
   "cell_type": "code",
   "execution_count": 30,
   "metadata": {},
   "outputs": [],
   "source": [
    "# Create a trace\n",
    "def create_scatter(data, x=9, y=10):\n",
    "    trace = go.Scatter(\n",
    "        x = data[x],\n",
    "        y = data[y],\n",
    "        mode = 'markers'\n",
    "    )\n",
    "    fig = go.Figure(data=[trace])\n",
    "    return py.iplot(fig, filename='line-mode', validate=False)"
   ]
  },
  {
   "cell_type": "code",
   "execution_count": 36,
   "metadata": {},
   "outputs": [
    {
     "data": {
      "text/html": [
       "<iframe id=\"igraph\" scrolling=\"no\" style=\"border:none;\" seamless=\"seamless\" src=\"https://plot.ly/~PastelBelem8/4.embed\" height=\"525px\" width=\"100%\"></iframe>"
      ],
      "text/plain": [
       "<plotly.tools.PlotlyDisplay object>"
      ]
     },
     "execution_count": 36,
     "metadata": {},
     "output_type": "execute_result"
    }
   ],
   "source": [
    "create_scatter(data)"
   ]
  },
  {
   "cell_type": "code",
   "execution_count": 31,
   "metadata": {},
   "outputs": [
    {
     "data": {
      "text/html": [
       "<iframe id=\"igraph\" scrolling=\"no\" style=\"border:none;\" seamless=\"seamless\" src=\"https://plot.ly/~PastelBelem8/4.embed\" height=\"525px\" width=\"100%\"></iframe>"
      ],
      "text/plain": [
       "<plotly.tools.PlotlyDisplay object>"
      ]
     },
     "execution_count": 31,
     "metadata": {},
     "output_type": "execute_result"
    }
   ],
   "source": [
    "create_scatter(scaled_data)"
   ]
  },
  {
   "cell_type": "code",
   "execution_count": 32,
   "metadata": {},
   "outputs": [
    {
     "data": {
      "text/plain": [
       "array([3, 4, 5, 6, 7, 8])"
      ]
     },
     "execution_count": 32,
     "metadata": {},
     "output_type": "execute_result"
    }
   ],
   "source": [
    "vars_cols"
   ]
  },
  {
   "cell_type": "code",
   "execution_count": 37,
   "metadata": {},
   "outputs": [],
   "source": [
    "# Create a trace\n",
    "def create_3d_scatter(data, x=9, y=10, zs=vars_cols):\n",
    "    traces = []\n",
    "    colors = ['hsl('+str(h)+',50%'+',50%)' for h in np.linspace(0, 360, zs.shape[0])]\n",
    "    \n",
    "    for i, z in enumerate(zs):\n",
    "        trace = go.Scatter3d(\n",
    "            x = data[x],\n",
    "            y = data[y],\n",
    "            z = data[z],\n",
    "            name = \"Var_\" + str(i),\n",
    "            mode = 'markers',\n",
    "            marker=dict(\n",
    "                color=colors[i],\n",
    "                size=3,\n",
    "                symbol='circle',\n",
    "                line=dict(\n",
    "                    color=colors[i],\n",
    "                    width=1\n",
    "                ),\n",
    "                opacity=1\n",
    "            )\n",
    "        )\n",
    "        traces.append(trace)\n",
    "        \n",
    "    fig = go.Figure(data=traces)\n",
    "    return py.iplot(fig, filename='scatter3d-mode', validate=False)"
   ]
  },
  {
   "cell_type": "code",
   "execution_count": 34,
   "metadata": {},
   "outputs": [
    {
     "name": "stdout",
     "output_type": "stream",
     "text": [
      "The draw time for this plot will be slow for all clients.\n"
     ]
    },
    {
     "name": "stderr",
     "output_type": "stream",
     "text": [
      "C:\\Users\\catar\\Programs\\Anaconda3\\lib\\site-packages\\plotly\\api\\v1\\clientresp.py:40: UserWarning:\n",
      "\n",
      "Estimated Draw Time Too Long\n",
      "\n"
     ]
    },
    {
     "data": {
      "text/html": [
       "<iframe id=\"igraph\" scrolling=\"no\" style=\"border:none;\" seamless=\"seamless\" src=\"https://plot.ly/~PastelBelem8/61.embed\" height=\"525px\" width=\"100%\"></iframe>"
      ],
      "text/plain": [
       "<plotly.tools.PlotlyDisplay object>"
      ]
     },
     "execution_count": 34,
     "metadata": {},
     "output_type": "execute_result"
    }
   ],
   "source": [
    "create_3d_scatter(scaled_data)"
   ]
  },
  {
   "cell_type": "code",
   "execution_count": 35,
   "metadata": {},
   "outputs": [],
   "source": [
    "from sklearn.neural_network import MLPRegressor"
   ]
  },
  {
   "cell_type": "code",
   "execution_count": null,
   "metadata": {},
   "outputs": [],
   "source": [
    "# Create the model\n",
    "mlpr = MLPRegressor(hidden_layer_sizes=(50, 100, 50), early_stopping=True, \n",
    "                    shuffle=True, max_iter=200, verbose=True, validation_fraction=0.05)"
   ]
  },
  {
   "cell_type": "code",
   "execution_count": null,
   "metadata": {},
   "outputs": [],
   "source": [
    "def create_surface_plot(model, data, x=objs_cols, y=vars_cols):\n",
    "    X_train = data[x]\n",
    "    y_train = data[y]\n",
    "    model.fit(X, y)\n",
    "    \n",
    "    # Create the data for the surface\n",
    "    x_to_mesh = np.linspace(0, 1, 100)\n",
    "    y_to_mesh = np.linspace(0, 1, 100)\n",
    "    \n",
    "    # FIXME - \n",
    "    Y, X = np.meshgrid(x, y)\n",
    "    Z = model.predict()"
   ]
  },
  {
   "cell_type": "code",
   "execution_count": null,
   "metadata": {},
   "outputs": [],
   "source": [
    "x1_to_mesh = np.linspace(0, 1, 100)\n",
    "x2_to_mesh = np.linspace(0, 1, 100)\n",
    "\n",
    "X2, X1 = np.meshgrid(x1_to_mesh, x2_to_mesh)"
   ]
  },
  {
   "cell_type": "code",
   "execution_count": null,
   "metadata": {},
   "outputs": [],
   "source": [
    "X2.shapeb"
   ]
  },
  {
   "cell_type": "code",
   "execution_count": null,
   "metadata": {},
   "outputs": [],
   "source": [
    "X1.shape"
   ]
  },
  {
   "cell_type": "code",
   "execution_count": null,
   "metadata": {},
   "outputs": [],
   "source": [
    "# np.array([1, 1]).reshape((1, 2))\n",
    "# Z1 = np.cos(X) * np.sin(Y)"
   ]
  },
  {
   "cell_type": "code",
   "execution_count": null,
   "metadata": {},
   "outputs": [],
   "source": [
    "scaled_data.describe()"
   ]
  },
  {
   "cell_type": "code",
   "execution_count": null,
   "metadata": {},
   "outputs": [],
   "source": []
  },
  {
   "cell_type": "code",
   "execution_count": null,
   "metadata": {},
   "outputs": [],
   "source": [
    "o1 = 9 \n",
    "o2 = 10"
   ]
  },
  {
   "cell_type": "code",
   "execution_count": null,
   "metadata": {},
   "outputs": [],
   "source": [
    "fixed = scaled_data[(scaled_data[o2] < 0.41) & (scaled_data[o2] > 0.39)]\n",
    "fixed_o1 = fixed[o1]\n",
    "fixed_o2 = fixed[o2]"
   ]
  },
  {
   "cell_type": "code",
   "execution_count": null,
   "metadata": {},
   "outputs": [],
   "source": [
    "trace = go.Scatter(\n",
    "        x = fixed_o2,\n",
    "        y = fixed_o1,\n",
    "        mode = 'markers'\n",
    "    )\n",
    "fig = go.Figure(data=[trace])\n",
    "py.iplot(fig, filename='line-mode', validate=False)"
   ]
  },
  {
   "cell_type": "code",
   "execution_count": null,
   "metadata": {},
   "outputs": [],
   "source": []
  }
 ],
 "metadata": {
  "kernelspec": {
   "display_name": "Python 3",
   "language": "python",
   "name": "python3"
  },
  "language_info": {
   "codemirror_mode": {
    "name": "ipython",
    "version": 3
   },
   "file_extension": ".py",
   "mimetype": "text/x-python",
   "name": "python",
   "nbconvert_exporter": "python",
   "pygments_lexer": "ipython3",
   "version": "3.6.7"
  }
 },
 "nbformat": 4,
 "nbformat_minor": 2
}
